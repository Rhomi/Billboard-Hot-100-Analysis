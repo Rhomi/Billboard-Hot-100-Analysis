{
 "cells": [
  {
   "cell_type": "code",
   "execution_count": 1,
   "metadata": {},
   "outputs": [],
   "source": [
    "# import all the packages\n",
    "from bs4 import BeautifulSoup\n",
    "import requests"
   ]
  },
  {
   "cell_type": "code",
   "execution_count": 2,
   "metadata": {},
   "outputs": [
    {
     "name": "stdout",
     "output_type": "stream",
     "text": [
      "['1965', '1966', '1967', '1968', '1969', '1970', '1971', '1972', '1973', '1974', '1975']\n"
     ]
    }
   ],
   "source": [
    "years = [str(x) for x in range(1965,1976)]\n",
    "print(years)"
   ]
  },
  {
   "cell_type": "code",
   "execution_count": 3,
   "metadata": {},
   "outputs": [],
   "source": [
    "wiki_url = 'https://en.wikipedia.org/wiki/Billboard_Year-End_Hot_100_singles_of_'"
   ]
  },
  {
   "cell_type": "code",
   "execution_count": 4,
   "metadata": {},
   "outputs": [],
   "source": [
    "def hit_em_all():\n",
    "    year_wise_html = {}\n",
    "    for year in years:\n",
    "        url = wiki_url+year\n",
    "        result = requests.get(url)\n",
    "        content = result.content\n",
    "        year_wise_html[year] = BeautifulSoup(content, 'html.parser')\n",
    "    return(year_wise_html)"
   ]
  },
  {
   "cell_type": "code",
   "execution_count": 25,
   "metadata": {},
   "outputs": [],
   "source": [
    "hot_100s = hit_em_all()"
   ]
  },
  {
   "cell_type": "code",
   "execution_count": 26,
   "metadata": {
    "collapsed": true
   },
   "outputs": [],
   "source": [
    "def get_song_list_table(table):\n",
    "    table_class = table.attrs['class']\n",
    "    table_class_list = []\n",
    "    for class_name in table_class:\n",
    "        table_class_list.append(class_name.encode('ascii','ignore'))\n",
    "    class_name = \" \".join(table_class_list)\n",
    "    return(class_name)"
   ]
  },
  {
   "cell_type": "code",
   "execution_count": 27,
   "metadata": {},
   "outputs": [],
   "source": [
    "def get_the_table(page):\n",
    "    tables = page.findChildren('table')\n",
    "    for table in tables:\n",
    "        if get_song_list_table(table) == 'wikitable sortable':\n",
    "            return(table)"
   ]
  },
  {
   "cell_type": "code",
   "execution_count": 28,
   "metadata": {
    "collapsed": true
   },
   "outputs": [],
   "source": [
    "def get_all_year_song_tables():\n",
    "    year_wise_table = {}\n",
    "    for year, page in hot_100s.items():\n",
    "        year_wise_table[year] = get_the_table(page)\n",
    "    return(year_wise_table)"
   ]
  },
  {
   "cell_type": "markdown",
   "metadata": {},
   "source": [
    "year_wise_table = get_all_year_song_tables()\n",
    "#print(year_wise_table)"
   ]
  },
  {
   "cell_type": "code",
   "execution_count": 12,
   "metadata": {},
   "outputs": [],
   "source": [
    "def get_artist_name_and_song_links():\n",
    "    complete_dict = dict()\n",
    "    all_artists = []\n",
    "    full_song_links = []\n",
    "    song_name_list = []\n",
    "    wikipedia = 'https://en.wikipedia.org'\n",
    "    for year, table in year_wise_table.items():\n",
    "        all_tds = year_wise_table[year].find_all('td')\n",
    "        artist_links = all_tds[1::2]\n",
    "        for artist in artist_links:\n",
    "            all_artists.append(artist.text.encode('ascii','ignore'))\n",
    "        #print(year)\n",
    "        #print(all_artists)\n",
    "        song_links = all_tds[::2]\n",
    "        for song in song_links:\n",
    "            a = song.find('a')\n",
    "            if a:\n",
    "                link = a.attrs['href']\n",
    "                print('Link',link)\n",
    "                song_name_list.append(a.text.encode('ascii','ignore'))\n",
    "                print('Song Name',a.text.encode('ascii','ignore'))\n",
    "                full_song_links.append(wikipedia+link.encode('ascii','ignore'))\n",
    "                print('Song Link',wikipedia+link.encode('ascii','ignore'))\n",
    "        complete_dict[year] = [artists_links, full_song_links]\n",
    "    return(complete_dict)"
   ]
  },
  {
   "cell_type": "code",
   "execution_count": 25,
   "metadata": {},
   "outputs": [
    {
     "name": "stdout",
     "output_type": "stream",
     "text": [
      "('Artist', 'The Spinners')\n",
      "('Link', u'/wiki/Barbra_Streisand')\n",
      "('Song Name', 'Barbra Streisand')\n",
      "('Song Link', 'https://en.wikipedia.org/wiki/Barbra_Streisand')\n",
      "('Link', u'/wiki/Seasons_in_the_Sun')\n",
      "('Song Name', 'Seasons in the Sun')\n",
      "('Song Link', 'https://en.wikipedia.org/wiki/Seasons_in_the_Sun')\n",
      "('Link', u'/wiki/Love_Unlimited_Orchestra')\n",
      "('Song Name', 'Love Unlimited Orchestra')\n",
      "('Song Link', 'https://en.wikipedia.org/wiki/Love_Unlimited_Orchestra')\n",
      "('Link', u'/wiki/Come_and_Get_Your_Love')\n",
      "('Song Name', 'Come and Get Your Love')\n",
      "('Song Link', 'https://en.wikipedia.org/wiki/Come_and_Get_Your_Love')\n",
      "('Link', u'/wiki/The_Jackson_5')\n",
      "('Song Name', 'The Jackson 5')\n",
      "('Song Link', 'https://en.wikipedia.org/wiki/The_Jackson_5')\n",
      "('Link', u'/wiki/The_Loco-Motion')\n",
      "('Song Name', 'The Loco-Motion')\n",
      "('Song Link', 'https://en.wikipedia.org/wiki/The_Loco-Motion')\n",
      "('Link', u'/wiki/MFSB')\n",
      "('Song Name', 'MFSB')\n",
      "('Song Link', 'https://en.wikipedia.org/wiki/MFSB')\n",
      "('Link', u'/wiki/The_Streak')\n",
      "('Song Name', 'The Streak')\n",
      "('Song Link', 'https://en.wikipedia.org/wiki/The_Streak')\n",
      "('Link', u'/wiki/Elton_John')\n",
      "('Song Name', 'Elton John')\n",
      "('Song Link', 'https://en.wikipedia.org/wiki/Elton_John')\n",
      "('Link', u'/wiki/One_Hell_of_a_Woman')\n",
      "('Song Name', 'One Hell of a Woman')\n",
      "('Song Link', 'https://en.wikipedia.org/wiki/One_Hell_of_a_Woman')\n",
      "('Link', u'/wiki/Aretha_Franklin')\n",
      "('Song Name', 'Aretha Franklin')\n",
      "('Song Link', 'https://en.wikipedia.org/wiki/Aretha_Franklin')\n",
      "('Link', u'/wiki/Jungle_Boogie')\n",
      "('Song Name', 'Jungle Boogie')\n",
      "('Song Link', 'https://en.wikipedia.org/wiki/Jungle_Boogie')\n",
      "('Link', u'/wiki/Maria_Muldaur')\n",
      "('Song Name', 'Maria Muldaur')\n",
      "('Song Link', 'https://en.wikipedia.org/wiki/Maria_Muldaur')\n",
      "('Link', u'/wiki/You_Make_Me_Feel_Brand_New')\n",
      "('Song Name', 'You Make Me Feel Brand New')\n",
      "('Song Link', 'https://en.wikipedia.org/wiki/You_Make_Me_Feel_Brand_New')\n",
      "('Link', u'/wiki/Al_Wilson_(singer)')\n",
      "('Song Name', 'Al Wilson')\n",
      "('Song Link', 'https://en.wikipedia.org/wiki/Al_Wilson_(singer)')\n",
      "('Link', u'/wiki/Spiders_%26_Snakes_(song)')\n",
      "('Song Name', 'Spiders and Snakes')\n",
      "('Song Link', 'https://en.wikipedia.org/wiki/Spiders_%26_Snakes_(song)')\n",
      "('Link', u'/wiki/David_Essex')\n",
      "('Song Name', 'David Essex')\n",
      "('Song Link', 'https://en.wikipedia.org/wiki/David_Essex')\n",
      "('Link', u'/wiki/Sunshine_on_My_Shoulders')\n",
      "('Song Name', 'Sunshine on My Shoulders')\n",
      "('Song Link', 'https://en.wikipedia.org/wiki/Sunshine_on_My_Shoulders')\n",
      "('Link', u'/wiki/Blue_Magic_(band)')\n",
      "('Song Name', 'Blue Magic')\n",
      "('Song Link', 'https://en.wikipedia.org/wiki/Blue_Magic_(band)')\n",
      "('Link', u'/wiki/Hooked_on_a_Feeling')\n",
      "('Song Name', 'Hooked on a Feeling')\n",
      "('Song Link', 'https://en.wikipedia.org/wiki/Hooked_on_a_Feeling')\n",
      "('Link', u'/wiki/Bo_Donaldson_and_The_Heywoods')\n",
      "('Song Name', 'Bo Donaldson and The Heywoods')\n",
      "('Song Link', 'https://en.wikipedia.org/wiki/Bo_Donaldson_and_The_Heywoods')\n",
      "('Link', u'/wiki/Band_on_the_Run_(song)')\n",
      "('Song Name', 'Band on the Run')\n",
      "('Song Link', 'https://en.wikipedia.org/wiki/Band_on_the_Run_(song)')\n",
      "('Link', u'/wiki/Charlie_Rich')\n",
      "('Song Name', 'Charlie Rich')\n",
      "('Song Link', 'https://en.wikipedia.org/wiki/Charlie_Rich')\n",
      "('Link', u'/wiki/Time_in_a_Bottle')\n",
      "('Song Name', 'Time in a Bottle')\n",
      "('Song Link', 'https://en.wikipedia.org/wiki/Time_in_a_Bottle')\n",
      "('Link', u'/wiki/John_Denver')\n",
      "('Song Name', 'John Denver')\n",
      "('Song Link', 'https://en.wikipedia.org/wiki/John_Denver')\n",
      "('Link', u'/wiki/Let_Me_Be_There')\n",
      "('Song Name', 'Let Me Be There')\n",
      "('Song Link', 'https://en.wikipedia.org/wiki/Let_Me_Be_There')\n",
      "('Link', u'/wiki/Gordon_Lightfoot')\n",
      "('Song Name', 'Gordon Lightfoot')\n",
      "('Song Link', 'https://en.wikipedia.org/wiki/Gordon_Lightfoot')\n",
      "('Link', u'/wiki/(You%27re)_Having_My_Baby')\n",
      "('Song Name', \"(You're) Having My Baby\")\n",
      "('Song Link', 'https://en.wikipedia.org/wiki/(You%27re)_Having_My_Baby')\n",
      "('Link', u'/wiki/Andy_Kim')\n",
      "('Song Name', 'Andy Kim')\n",
      "('Song Link', 'https://en.wikipedia.org/wiki/Andy_Kim')\n",
      "('Link', u'/wiki/Boogie_Down_(song)')\n",
      "('Song Name', 'Boogie Down')\n",
      "('Song Link', 'https://en.wikipedia.org/wiki/Boogie_Down_(song)')\n",
      "('Link', u'/wiki/Ringo_Starr')\n",
      "('Song Name', 'Ringo Starr')\n",
      "('Song Link', 'https://en.wikipedia.org/wiki/Ringo_Starr')\n",
      "('Link', u'/wiki/If_You_Love_Me_(Let_Me_Know)')\n",
      "('Song Name', 'If You Love Me (Let Me Know)')\n",
      "('Song Link', 'https://en.wikipedia.org/wiki/If_You_Love_Me_(Let_Me_Know)')\n",
      "('Link', u'/wiki/Cher')\n",
      "('Song Name', 'Cher')\n",
      "('Song Link', 'https://en.wikipedia.org/wiki/Cher')\n",
      "('Link', u'/wiki/You%27re_the_Best_Thing_That_Ever_Happened_to_Me')\n",
      "('Song Name', 'Best Thing That Ever Happened to Me')\n",
      "('Song Link', 'https://en.wikipedia.org/wiki/You%27re_the_Best_Thing_That_Ever_Happened_to_Me')\n",
      "('Link', u'/wiki/Roberta_Flack')\n",
      "('Song Name', 'Roberta Flack')\n",
      "('Song Link', 'https://en.wikipedia.org/wiki/Roberta_Flack')\n",
      "('Link', u'/wiki/Just_Don%27t_Want_to_Be_Lonely')\n",
      "('Song Name', \"Just Don't Want to Be Lonely\")\n",
      "('Song Link', 'https://en.wikipedia.org/wiki/Just_Don%27t_Want_to_Be_Lonely')\n",
      "('Link', u'/wiki/Billy_Preston')\n",
      "('Song Name', 'Billy Preston')\n",
      "('Song Link', 'https://en.wikipedia.org/wiki/Billy_Preston')\n",
      "('Link', u'/wiki/Rock_Your_Baby')\n",
      "('Song Name', 'Rock Your Baby')\n",
      "('Song Link', 'https://en.wikipedia.org/wiki/Rock_Your_Baby')\n",
      "('Link', u'/wiki/The_Carpenters')\n",
      "('Song Name', 'The Carpenters')\n",
      "('Song Link', 'https://en.wikipedia.org/wiki/The_Carpenters')\n",
      "('Link', u'/wiki/The_Joker_(song)')\n",
      "('Song Name', 'The Joker')\n",
      "('Song Link', 'https://en.wikipedia.org/wiki/The_Joker_(song)')\n",
      "('Link', u'/wiki/Gladys_Knight_%26_the_Pips')\n",
      "('Song Name', 'Gladys Knight & the Pips')\n",
      "('Song Link', 'https://en.wikipedia.org/wiki/Gladys_Knight_%26_the_Pips')\n",
      "('Link', u'/wiki/The_Show_Must_Go_On_(Leo_Sayer_song)')\n",
      "('Song Name', 'The Show Must Go On')\n",
      "('Song Link', 'https://en.wikipedia.org/wiki/The_Show_Must_Go_On_(Leo_Sayer_song)')\n",
      "('Link', u'/wiki/The_Hues_Corporation')\n",
      "('Song Name', 'The Hues Corporation')\n",
      "('Song Link', 'https://en.wikipedia.org/wiki/The_Hues_Corporation')\n",
      "('Link', u'/wiki/Smokin%27_in_the_Boys_Room')\n",
      "('Song Name', \"Smokin' in the Boys Room\")\n",
      "('Song Link', 'https://en.wikipedia.org/wiki/Smokin%27_in_the_Boys_Room')\n",
      "('Link', u'/wiki/Stevie_Wonder')\n",
      "('Song Name', 'Stevie Wonder')\n",
      "('Song Link', 'https://en.wikipedia.org/wiki/Stevie_Wonder')\n",
      "('Link', u'/wiki/The_Night_Chicago_Died')\n",
      "('Song Name', 'The Night Chicago Died')\n",
      "('Song Link', 'https://en.wikipedia.org/wiki/The_Night_Chicago_Died')\n",
      "('Link', u'/wiki/Dionne_Warwick')\n",
      "('Song Name', 'Dionne Warwick')\n",
      "('Song Link', 'https://en.wikipedia.org/wiki/Dionne_Warwick')\n",
      "('Link', u'/wiki/The_Entertainer_(rag)')\n",
      "('Song Name', 'The Entertainer')\n",
      "('Song Link', 'https://en.wikipedia.org/wiki/The_Entertainer_(rag)')\n",
      "('Link', u'/wiki/ABBA')\n",
      "('Song Name', 'ABBA')\n",
      "('Song Link', 'https://en.wikipedia.org/wiki/ABBA')\n",
      "('Link', u'/wiki/The_Air_That_I_Breathe')\n",
      "('Song Name', 'The Air That I Breathe')\n",
      "('Song Link', 'https://en.wikipedia.org/wiki/The_Air_That_I_Breathe')\n",
      "('Link', u'/wiki/Steely_Dan')\n",
      "('Song Name', 'Steely Dan')\n",
      "('Song Link', 'https://en.wikipedia.org/wiki/Steely_Dan')\n",
      "('Link', u'/wiki/Mockingbird_(Inez_%26_Charlie_Foxx_song)')\n",
      "('Song Name', 'Mockingbird')\n",
      "('Song Link', 'https://en.wikipedia.org/wiki/Mockingbird_(Inez_%26_Charlie_Foxx_song)')\n",
      "('Link', u'/wiki/Joni_Mitchell')\n",
      "('Song Name', 'Joni Mitchell')\n",
      "('Song Link', 'https://en.wikipedia.org/wiki/Joni_Mitchell')\n",
      "('Link', u'/wiki/You_Won%27t_See_Me')\n",
      "('Song Name', \"You Won't See Me\")\n",
      "('Song Link', 'https://en.wikipedia.org/wiki/You_Won%27t_See_Me')\n",
      "('Link', u'/wiki/Barry_White')\n",
      "('Song Name', 'Barry White')\n",
      "('Song Link', 'https://en.wikipedia.org/wiki/Barry_White')\n",
      "('Link', u'/wiki/Tell_Me_Something_Good')\n",
      "('Song Name', 'Tell Me Something Good')\n",
      "('Song Link', 'https://en.wikipedia.org/wiki/Tell_Me_Something_Good')\n",
      "('Link', u'/wiki/Helen_Reddy')\n",
      "('Song Name', 'Helen Reddy')\n",
      "('Song Link', 'https://en.wikipedia.org/wiki/Helen_Reddy')\n",
      "('Link', u'/wiki/Rock_and_Roll_Heaven')\n",
      "('Song Name', 'Rock and Roll Heaven')\n",
      "('Song Link', 'https://en.wikipedia.org/wiki/Rock_and_Roll_Heaven')\n",
      "('Link', u'/wiki/Kool_%26_the_Gang')\n",
      "('Song Name', 'Kool & the Gang')\n",
      "('Song Link', 'https://en.wikipedia.org/wiki/Kool_%26_the_Gang')\n",
      "('Link', u'/wiki/Be_Thankful_for_What_You_Got')\n",
      "('Song Name', 'Be Thankful for What You Got')\n",
      "('Song Link', 'https://en.wikipedia.org/wiki/Be_Thankful_for_What_You_Got')\n",
      "('Link', u'/wiki/Johnny_Bristol')\n",
      "('Song Name', 'Johnny Bristol')\n",
      "('Song Link', 'https://en.wikipedia.org/wiki/Johnny_Bristol')\n",
      "('Link', u'/wiki/Eres_t%C3%BA_(Mocedades_song)')\n",
      "('Song Name', 'Eres t')\n",
      "('Song Link', 'https://en.wikipedia.org/wiki/Eres_t%C3%BA_(Mocedades_song)')\n",
      "('Link', u'/wiki/Bachman-Turner_Overdrive')\n",
      "('Song Name', 'Bachman-Turner Overdrive')\n",
      "('Song Link', 'https://en.wikipedia.org/wiki/Bachman-Turner_Overdrive')\n",
      "('Link', u'/wiki/Radar_Love')\n",
      "('Song Name', 'Radar Love')\n",
      "('Song Link', 'https://en.wikipedia.org/wiki/Radar_Love')\n",
      "('Link', u'/wiki/Dave_Loggins')\n",
      "('Song Name', 'Dave Loggins')\n",
      "('Song Link', 'https://en.wikipedia.org/wiki/Dave_Loggins')\n",
      "('Link', u'/wiki/Bobby_Womack')\n",
      "('Song Name', 'Bobby Womack')\n",
      "('Song Link', 'https://en.wikipedia.org/wiki/Bobby_Womack')\n",
      "('Link', u'/wiki/Gladys_Knight_%26_the_Pips')\n",
      "('Song Name', 'Gladys Knight & the Pips')\n",
      "('Song Link', 'https://en.wikipedia.org/wiki/Gladys_Knight_%26_the_Pips')\n",
      "('Link', u'/wiki/Oh_Very_Young')\n",
      "('Song Name', 'Oh Very Young')\n",
      "('Song Link', 'https://en.wikipedia.org/wiki/Oh_Very_Young')\n",
      "('Link', u'/wiki/Helen_Reddy')\n",
      "('Song Name', 'Helen Reddy')\n",
      "('Song Link', 'https://en.wikipedia.org/wiki/Helen_Reddy')\n",
      "('Link', u'/wiki/Goodbye_Yellow_Brick_Road_(song)')\n",
      "('Song Name', 'Goodbye Yellow Brick Road')\n",
      "('Song Link', 'https://en.wikipedia.org/wiki/Goodbye_Yellow_Brick_Road_(song)')\n",
      "('Link', u'/wiki/Chicago_(band)')\n",
      "('Song Name', 'Chicago')\n",
      "('Song Link', 'https://en.wikipedia.org/wiki/Chicago_(band)')\n",
      "('Link', u'/wiki/Oh_My_My_(Ringo_Starr_song)')\n",
      "('Song Name', 'Oh My My')\n",
      "('Song Link', 'https://en.wikipedia.org/wiki/Oh_My_My_(Ringo_Starr_song)')\n",
      "('Link', u'/wiki/The_O%27Jays')\n",
      "('Song Name', \"The O'Jays\")\n",
      "('Song Link', 'https://en.wikipedia.org/wiki/The_O%27Jays')\n",
      "('Link', u'/wiki/I_Shot_the_Sheriff')\n",
      "('Song Name', 'I Shot the Sheriff')\n",
      "('Song Link', 'https://en.wikipedia.org/wiki/I_Shot_the_Sheriff')\n",
      "('Link', u'/wiki/Paul_McCartney_and_Wings')\n",
      "('Song Name', 'Paul McCartney and Wings')\n",
      "('Song Link', 'https://en.wikipedia.org/wiki/Paul_McCartney_and_Wings')\n",
      "('Link', u'/wiki/Don%27t_Let_the_Sun_Go_Down_on_Me')\n",
      "('Song Name', \"Don't Let the Sun Go Down on Me\")\n",
      "('Song Link', 'https://en.wikipedia.org/wiki/Don%27t_Let_the_Sun_Go_Down_on_Me')\n",
      "('Link', u'/wiki/Mike_Oldfield')\n",
      "('Song Name', 'Mike Oldfield')\n",
      "('Song Link', 'https://en.wikipedia.org/wiki/Mike_Oldfield')\n",
      "('Link', u'/wiki/A_Love_Song_(Loggins_and_Messina_song)')\n",
      "('Song Name', 'A Love Song')\n",
      "('Song Link', 'https://en.wikipedia.org/wiki/A_Love_Song_(Loggins_and_Messina_song)')\n",
      "('Link', u'/wiki/Donny_Osmond')\n",
      "('Song Name', 'Donny')\n",
      "('Song Link', 'https://en.wikipedia.org/wiki/Donny_Osmond')\n",
      "('Link', u'/wiki/Hello_It%27s_Me')\n",
      "('Song Name', \"Hello It's Me\")\n",
      "('Song Link', 'https://en.wikipedia.org/wiki/Hello_It%27s_Me')\n",
      "('Link', u'/wiki/Tom_T._Hall')\n",
      "('Song Name', 'Tom T. Hall')\n",
      "('Song Link', 'https://en.wikipedia.org/wiki/Tom_T._Hall')\n",
      "('Link', u'/wiki/Clap_for_the_Wolfman')\n",
      "('Song Name', 'Clap for the Wolfman')\n",
      "('Song Link', 'https://en.wikipedia.org/wiki/Clap_for_the_Wolfman')\n",
      "('Link', u'/wiki/Jim_Croce')\n",
      "('Song Name', 'Jim Croce')\n",
      "('Song Link', 'https://en.wikipedia.org/wiki/Jim_Croce')\n",
      "('Link', u'/wiki/The_Lord%27s_Prayer_(Sister_Janet_Mead_song)')\n",
      "('Song Name', \"The Lord's Prayer\")\n",
      "('Song Link', 'https://en.wikipedia.org/wiki/The_Lord%27s_Prayer_(Sister_Janet_Mead_song)')\n",
      "('Link', u'/wiki/Lamont_Dozier')\n",
      "('Song Name', 'Lamont Dozier')\n",
      "('Song Link', 'https://en.wikipedia.org/wiki/Lamont_Dozier')\n",
      "('Link', u'/wiki/Don%27t_You_Worry_%27bout_a_Thing')\n",
      "('Song Name', \"Don't You Worry 'bout a Thing\")\n",
      "('Song Link', 'https://en.wikipedia.org/wiki/Don%27t_You_Worry_%27bout_a_Thing')\n",
      "('Link', u'/wiki/Charlie_Rich')\n",
      "('Song Name', 'Charlie Rich')\n",
      "('Song Link', 'https://en.wikipedia.org/wiki/Charlie_Rich')\n",
      "('Link', u'/wiki/My_Girl_Bill')\n",
      "('Song Name', 'My Girl Bill')\n",
      "('Song Link', 'https://en.wikipedia.org/wiki/My_Girl_Bill')\n",
      "('Link', u'/wiki/Paul_McCartney_and_Wings')\n",
      "('Song Name', 'Paul McCartney and Wings')\n",
      "('Song Link', 'https://en.wikipedia.org/wiki/Paul_McCartney_and_Wings')\n",
      "('Link', u'/wiki/My_Mistake_(Was_to_Love_You)')\n",
      "('Song Name', 'My Mistake (Was to Love You)')\n",
      "('Song Link', 'https://en.wikipedia.org/wiki/My_Mistake_(Was_to_Love_You)')\n",
      "('Link', u'/wiki/Jim_Stafford')\n",
      "('Song Name', 'Jim Stafford')\n",
      "('Song Link', 'https://en.wikipedia.org/wiki/Jim_Stafford')\n",
      "('Link', u'/wiki/Beach_Baby')\n",
      "('Song Name', 'Beach Baby')\n",
      "('Song Link', 'https://en.wikipedia.org/wiki/Beach_Baby')\n",
      "('Link', u'/wiki/War_(band)')\n",
      "('Song Name', 'War')\n",
      "('Song Link', 'https://en.wikipedia.org/wiki/War_(band)')\n",
      "('Link', u'/wiki/Olivia_Newton-John')\n",
      "('Song Name', 'Olivia Newton-John')\n",
      "('Song Link', 'https://en.wikipedia.org/wiki/Olivia_Newton-John')\n",
      "('Link', u'/wiki/Call_on_Me_(Chicago_song)')\n",
      "('Song Name', 'Call on Me')\n",
      "('Song Link', 'https://en.wikipedia.org/wiki/Call_on_Me_(Chicago_song)')\n",
      "('Link', u'/wiki/Fancy_(band)')\n",
      "('Song Name', 'Fancy')\n",
      "('Song Link', 'https://en.wikipedia.org/wiki/Fancy_(band)')\n",
      "('Link', u'/wiki/Mighty_Love_(song)')\n",
      "('Song Name', 'Mighty Love')\n",
      "('Song Link', 'https://en.wikipedia.org/wiki/Mighty_Love_(song)')\n"
     ]
    },
    {
     "ename": "NameError",
     "evalue": "global name 'artists_links' is not defined",
     "output_type": "error",
     "traceback": [
      "\u001b[0;31m---------------------------------------------------------------------------\u001b[0m",
      "\u001b[0;31mNameError\u001b[0m                                 Traceback (most recent call last)",
      "\u001b[0;32m<ipython-input-25-0b005ccb725f>\u001b[0m in \u001b[0;36m<module>\u001b[0;34m()\u001b[0m\n\u001b[0;32m----> 1\u001b[0;31m \u001b[0mmy_dict\u001b[0m \u001b[1;33m=\u001b[0m \u001b[0mget_artist_name_and_song_links\u001b[0m\u001b[1;33m(\u001b[0m\u001b[1;33m)\u001b[0m\u001b[1;33m\u001b[0m\u001b[0m\n\u001b[0m",
      "\u001b[0;32m<ipython-input-24-7174fab7d246>\u001b[0m in \u001b[0;36mget_artist_name_and_song_links\u001b[0;34m()\u001b[0m\n\u001b[1;32m     23\u001b[0m                 \u001b[0mfull_song_links\u001b[0m\u001b[1;33m.\u001b[0m\u001b[0mappend\u001b[0m\u001b[1;33m(\u001b[0m\u001b[0mwikipedia\u001b[0m\u001b[1;33m+\u001b[0m\u001b[0mlink\u001b[0m\u001b[1;33m.\u001b[0m\u001b[0mencode\u001b[0m\u001b[1;33m(\u001b[0m\u001b[1;34m'ascii'\u001b[0m\u001b[1;33m,\u001b[0m\u001b[1;34m'ignore'\u001b[0m\u001b[1;33m)\u001b[0m\u001b[1;33m)\u001b[0m\u001b[1;33m\u001b[0m\u001b[0m\n\u001b[1;32m     24\u001b[0m                 \u001b[1;32mprint\u001b[0m\u001b[1;33m(\u001b[0m\u001b[1;34m'Song Link'\u001b[0m\u001b[1;33m,\u001b[0m\u001b[0mwikipedia\u001b[0m\u001b[1;33m+\u001b[0m\u001b[0mlink\u001b[0m\u001b[1;33m.\u001b[0m\u001b[0mencode\u001b[0m\u001b[1;33m(\u001b[0m\u001b[1;34m'ascii'\u001b[0m\u001b[1;33m,\u001b[0m\u001b[1;34m'ignore'\u001b[0m\u001b[1;33m)\u001b[0m\u001b[1;33m)\u001b[0m\u001b[1;33m\u001b[0m\u001b[0m\n\u001b[0;32m---> 25\u001b[0;31m         \u001b[0mcomplete_dict\u001b[0m\u001b[1;33m[\u001b[0m\u001b[0myear\u001b[0m\u001b[1;33m]\u001b[0m \u001b[1;33m=\u001b[0m \u001b[1;33m[\u001b[0m\u001b[0martists_links\u001b[0m\u001b[1;33m,\u001b[0m \u001b[0mfull_song_links\u001b[0m\u001b[1;33m]\u001b[0m\u001b[1;33m\u001b[0m\u001b[0m\n\u001b[0m\u001b[1;32m     26\u001b[0m     \u001b[1;32mreturn\u001b[0m\u001b[1;33m(\u001b[0m\u001b[0mcomplete_dict\u001b[0m\u001b[1;33m)\u001b[0m\u001b[1;33m\u001b[0m\u001b[0m\n",
      "\u001b[0;31mNameError\u001b[0m: global name 'artists_links' is not defined"
     ]
    }
   ],
   "source": [
    "my_dict = get_artist_name_and_song_links()"
   ]
  },
  {
   "cell_type": "code",
   "execution_count": null,
   "metadata": {
    "collapsed": true
   },
   "outputs": [],
   "source": []
  },
  {
   "cell_type": "code",
   "execution_count": null,
   "metadata": {
    "collapsed": true
   },
   "outputs": [],
   "source": []
  },
  {
   "cell_type": "code",
   "execution_count": null,
   "metadata": {
    "collapsed": true
   },
   "outputs": [],
   "source": [
    "def get_full_artist_links():\n",
    "    all_artists = []\n",
    "    for artist in artist_links:\n",
    "        all_artists.append(artist.text.encode('ascii','ignore'))\n",
    "    return(all_artists)\n",
    "\n",
    "def get_full_song_links():\n",
    "    full_song_links = []\n",
    "    song_name_list = []\n",
    "    wikipedia = 'https://en.wikipedia.org'\n",
    "    for song in song_links:\n",
    "        a = song.find('a')\n",
    "        link = a.attrs['href']\n",
    "        song_name_list.append(a.text.encode('ascii','ignore'))\n",
    "        full_song_links.append(wikipedia+link.encode('ascii','ignore'))\n",
    "    return(full_song_links,song_name_list)"
   ]
  },
  {
   "cell_type": "code",
   "execution_count": 60,
   "metadata": {
    "collapsed": true
   },
   "outputs": [],
   "source": [
    "#### End of experimental automation"
   ]
  },
  {
   "cell_type": "code",
   "execution_count": null,
   "metadata": {
    "collapsed": true
   },
   "outputs": [],
   "source": []
  },
  {
   "cell_type": "code",
   "execution_count": 78,
   "metadata": {},
   "outputs": [],
   "source": [
    "all_tds = year_wise_table['1965'].find_all('td')"
   ]
  },
  {
   "cell_type": "code",
   "execution_count": null,
   "metadata": {
    "collapsed": true
   },
   "outputs": [],
   "source": []
  },
  {
   "cell_type": "code",
   "execution_count": 85,
   "metadata": {},
   "outputs": [],
   "source": [
    "def data_pipeline(year):\n",
    "    year = ''+str(year)\n",
    "    all_tds = year_wise_table[year].find_all('td')\n",
    "\n",
    "    my_tds = []\n",
    "    for td in all_tds:\n",
    "        if not td.text.isdigit():\n",
    "            my_tds.append(td)\n",
    "\n",
    "    artist_links = my_tds[1::2]\n",
    "    song_links = my_tds[::2]\n",
    "\n",
    "    def get_full_artist_links():\n",
    "        all_artists = []\n",
    "        for artist in artist_links:\n",
    "            if not artist.text.isdigit():\n",
    "                all_artists.append(artist.text.encode('ascii','ignore'))\n",
    "        return(all_artists)\n",
    "\n",
    "    artists = get_full_artist_links()\n",
    "\n",
    "    def get_full_song_links():\n",
    "        full_song_links = []\n",
    "        song_name_list = []\n",
    "        wikipedia = 'https://en.wikipedia.org'\n",
    "        for song in song_links:\n",
    "            #print(song)\n",
    "            a = song.find('a')\n",
    "            #print(a)\n",
    "            if a:\n",
    "                link = a.attrs['href']\n",
    "                song_name_list.append(a.text.encode('ascii','ignore'))\n",
    "                full_song_links.append(wikipedia+link.encode('ascii','ignore'))\n",
    "        return(full_song_links,song_name_list)\n",
    "\n",
    "    links, songs = get_full_song_links()\n",
    "\n",
    "    table = pd.DataFrame(list(zip([1990]*min(len(artists),len(songs),len(links)),songs, artists, links)), columns=['Year','Song','Artist','Song Link'])\n",
    "\n",
    "    table.head(5)\n",
    "\n",
    "    def get_the_right_table(table):\n",
    "        attributes = table.attrs\n",
    "        table_class_list = []\n",
    "        class_name=''\n",
    "        if 'class' in attributes:\n",
    "            table_classes = table.attrs['class']\n",
    "            for class_name in table_classes:\n",
    "                table_class_list.append(class_name.encode('ascii','ignore'))\n",
    "            class_name = \" \".join(table_class_list)\n",
    "            return(class_name)\n",
    "\n",
    "    def get_genres(table):\n",
    "        genre_dict = dict()\n",
    "        songs = []\n",
    "        for index, row in table.iterrows():\n",
    "            #print('Song',row['Song'])\n",
    "            #print('Artist',row['Artist'])\n",
    "            try:\n",
    "                result = requests.get(row['Song Link'])\n",
    "                content = result.content\n",
    "                html = BeautifulSoup(content, 'html.parser')\n",
    "                tables = html.findChildren('table')\n",
    "                my_table = ''\n",
    "                for table in tables:\n",
    "                    if get_the_right_table(table) == \"infobox vevent\":\n",
    "                        my_table = table\n",
    "                        all_as = [a.text.encode('ascii','ignore') for a in my_table.find_all('a')]\n",
    "                        genres = all_as[all_as.index('Genre')+1:all_as.index('Label')]\n",
    "                        # the solution is from https://stackoverflow.com/questions/20585920/how-to-add-multiple-values-to-a-dictionary-key-in-python\n",
    "                        key = row['Song']\n",
    "                        #print(row['Song'])\n",
    "                        genre_dict.setdefault(key, [])\n",
    "                        genre_dict[key].append(genres)\n",
    "                        #print(genre_dict[key])\n",
    "            except Exception:\n",
    "                pass\n",
    "        return(genre_dict)\n",
    "\n",
    "    #if hasNumbers(a.text.encode('ascii','ignore'))\n",
    "    genre_dict = get_genres(table)\n",
    "\n",
    "    len(genre_dict)\n",
    "\n",
    "    genre_list = []\n",
    "    # flatten out the genres list which is multidimensional\n",
    "    for genre in genre_dict.values():\n",
    "        genres = [x for sublist in genre for x in sublist]\n",
    "        genre_list.append(genres)\n",
    "\n",
    "    df_genres = pd.DataFrame(np.column_stack([genre_dict.keys(), genre_list]), \n",
    "                                   columns=['Song','Genres'])\n",
    "\n",
    "    df_genres.head(5)\n",
    "\n",
    "    import re\n",
    "    def remove_numbers(my_list):\n",
    "        final_genres = []\n",
    "        for x in my_list:\n",
    "            if not re.search('\\d+', x):\n",
    "                final_genres.append(x.title())\n",
    "        return(\",\".join(final_genres))\n",
    "\n",
    "    df = df_genres\n",
    "\n",
    "    df['Final Genres'] = df['Genres'].apply(remove_numbers)\n",
    "\n",
    "    del df['Genres']\n",
    "\n",
    "    df.head(5)\n",
    "    return(df)"
   ]
  },
  {
   "cell_type": "code",
   "execution_count": 86,
   "metadata": {
    "collapsed": true
   },
   "outputs": [],
   "source": [
    "year = range(1965,2016)"
   ]
  },
  {
   "cell_type": "code",
   "execution_count": 87,
   "metadata": {},
   "outputs": [],
   "source": [
    "for y in year:\n",
    "    df = data_pipeline(y)\n",
    "    a = str(y)+'.csv'\n",
    "    df.to_csv(a)"
   ]
  },
  {
   "cell_type": "code",
   "execution_count": null,
   "metadata": {
    "collapsed": true
   },
   "outputs": [],
   "source": []
  },
  {
   "cell_type": "code",
   "execution_count": null,
   "metadata": {
    "collapsed": true
   },
   "outputs": [],
   "source": []
  },
  {
   "cell_type": "code",
   "execution_count": null,
   "metadata": {
    "collapsed": true
   },
   "outputs": [],
   "source": []
  },
  {
   "cell_type": "code",
   "execution_count": null,
   "metadata": {
    "collapsed": true
   },
   "outputs": [],
   "source": []
  },
  {
   "cell_type": "code",
   "execution_count": null,
   "metadata": {
    "collapsed": true
   },
   "outputs": [],
   "source": []
  },
  {
   "cell_type": "code",
   "execution_count": 13,
   "metadata": {},
   "outputs": [],
   "source": [
    "all_tds = year_wise_table['1967'].find_all('td')"
   ]
  },
  {
   "cell_type": "code",
   "execution_count": 15,
   "metadata": {},
   "outputs": [],
   "source": [
    "def get_my_tds():\n",
    "    my_tds = []\n",
    "    for td in all_tds:\n",
    "        if not td.text.isdigit():\n",
    "            my_tds.append(td)"
   ]
  },
  {
   "cell_type": "code",
   "execution_count": 17,
   "metadata": {},
   "outputs": [],
   "source": [
    "artist_links = my_tds[1::2]\n",
    "song_links = my_tds[::2]"
   ]
  },
  {
   "cell_type": "code",
   "execution_count": 21,
   "metadata": {
    "collapsed": true
   },
   "outputs": [],
   "source": [
    "def get_full_artist_links():\n",
    "    all_artists = []\n",
    "    for artist in artist_links:\n",
    "        if not artist.text.isdigit():\n",
    "            all_artists.append(artist.text.encode('ascii','ignore'))\n",
    "    return(all_artists)"
   ]
  },
  {
   "cell_type": "code",
   "execution_count": 22,
   "metadata": {},
   "outputs": [],
   "source": [
    "artists = get_full_artist_links()"
   ]
  },
  {
   "cell_type": "code",
   "execution_count": 24,
   "metadata": {},
   "outputs": [],
   "source": [
    "def get_full_song_links():\n",
    "    full_song_links = []\n",
    "    song_name_list = []\n",
    "    wikipedia = 'https://en.wikipedia.org'\n",
    "    for song in song_links:\n",
    "        #print(song)\n",
    "        a = song.find('a')\n",
    "        #print(a)\n",
    "        if a:\n",
    "            link = a.attrs['href']\n",
    "            song_name_list.append(a.text.encode('ascii','ignore'))\n",
    "            full_song_links.append(wikipedia+link.encode('ascii','ignore'))\n",
    "    return(full_song_links,song_name_list)"
   ]
  },
  {
   "cell_type": "code",
   "execution_count": 25,
   "metadata": {},
   "outputs": [
    {
     "name": "stdout",
     "output_type": "stream",
     "text": [
      "<td>\"<a href=\"/wiki/To_Sir_With_Love_(song)\" title=\"To Sir With Love (song)\">To Sir With Love</a>\"</td>\n",
      "<a href=\"/wiki/To_Sir_With_Love_(song)\" title=\"To Sir With Love (song)\">To Sir With Love</a>\n",
      "<td>\"<a href=\"/wiki/The_Letter_(The_Box_Tops_song)\" title=\"The Letter (The Box Tops song)\">The Letter</a>\"</td>\n",
      "<a href=\"/wiki/The_Letter_(The_Box_Tops_song)\" title=\"The Letter (The Box Tops song)\">The Letter</a>\n",
      "<td>\"<a href=\"/wiki/Ode_to_Billie_Joe\" title=\"Ode to Billie Joe\">Ode to Billie Joe</a>\"</td>\n",
      "<a href=\"/wiki/Ode_to_Billie_Joe\" title=\"Ode to Billie Joe\">Ode to Billie Joe</a>\n",
      "<td>\"<a href=\"/wiki/Windy\" title=\"Windy\">Windy</a>\"</td>\n",
      "<a href=\"/wiki/Windy\" title=\"Windy\">Windy</a>\n",
      "<td>\"<a href=\"/wiki/I%27m_a_Believer\" title=\"I'm a Believer\">I'm a Believer</a>\"</td>\n",
      "<a href=\"/wiki/I%27m_a_Believer\" title=\"I'm a Believer\">I'm a Believer</a>\n",
      "<td>\"<a href=\"/wiki/Light_My_Fire\" title=\"Light My Fire\">Light My Fire</a>\"</td>\n",
      "<a href=\"/wiki/Light_My_Fire\" title=\"Light My Fire\">Light My Fire</a>\n",
      "<td>\"<a href=\"/wiki/Somethin%27_Stupid\" title=\"Somethin' Stupid\">Somethin' Stupid</a>\"</td>\n",
      "<a href=\"/wiki/Somethin%27_Stupid\" title=\"Somethin' Stupid\">Somethin' Stupid</a>\n",
      "<td>\"<a href=\"/wiki/Happy_Together_(song)\" title=\"Happy Together (song)\">Happy Together</a>\"</td>\n",
      "<a href=\"/wiki/Happy_Together_(song)\" title=\"Happy Together (song)\">Happy Together</a>\n",
      "<td>\"<a href=\"/wiki/Groovin%27\" title=\"Groovin'\">Groovin'</a>\"</td>\n",
      "<a href=\"/wiki/Groovin%27\" title=\"Groovin'\">Groovin'</a>\n",
      "<td>\"<a class=\"mw-redirect\" href=\"/wiki/Can%27t_Take_My_Eyes_off_You\" title=\"Can't Take My Eyes off You\">Can't Take My Eyes off You</a>\"</td>\n",
      "<a class=\"mw-redirect\" href=\"/wiki/Can%27t_Take_My_Eyes_off_You\" title=\"Can't Take My Eyes off You\">Can't Take My Eyes off You</a>\n",
      "<td>\"<a href=\"/wiki/Little_Bit_O%27_Soul\" title=\"Little Bit O' Soul\">Little Bit O' Soul</a>\"</td>\n",
      "<a href=\"/wiki/Little_Bit_O%27_Soul\" title=\"Little Bit O' Soul\">Little Bit O' Soul</a>\n",
      "<td>\"<a href=\"/wiki/I_Think_We%27re_Alone_Now\" title=\"I Think We're Alone Now\">I Think We're Alone Now</a>\"</td>\n",
      "<a href=\"/wiki/I_Think_We%27re_Alone_Now\" title=\"I Think We're Alone Now\">I Think We're Alone Now</a>\n",
      "<td>\"<a href=\"/wiki/Respect_(song)\" title=\"Respect (song)\">Respect</a>\"</td>\n",
      "<a href=\"/wiki/Respect_(song)\" title=\"Respect (song)\">Respect</a>\n",
      "<td>\"<a href=\"/wiki/I_Was_Made_to_Love_Her_(song)\" title=\"I Was Made to Love Her (song)\">I Was Made to Love Her</a>\"</td>\n",
      "<a href=\"/wiki/I_Was_Made_to_Love_Her_(song)\" title=\"I Was Made to Love Her (song)\">I Was Made to Love Her</a>\n",
      "<td>\"<a href=\"/wiki/Come_Back_When_You_Grow_Up\" title=\"Come Back When You Grow Up\">Come Back When You Grow Up</a>\"</td>\n",
      "<a href=\"/wiki/Come_Back_When_You_Grow_Up\" title=\"Come Back When You Grow Up\">Come Back When You Grow Up</a>\n",
      "<td>\"<a href=\"/wiki/Kind_of_a_Drag\" title=\"Kind of a Drag\">Kind of a Drag</a>\"</td>\n",
      "<a href=\"/wiki/Kind_of_a_Drag\" title=\"Kind of a Drag\">Kind of a Drag</a>\n",
      "<td>\"<a href=\"/wiki/Sweet_Soul_Music\" title=\"Sweet Soul Music\">Sweet Soul Music</a>\"</td>\n",
      "<a href=\"/wiki/Sweet_Soul_Music\" title=\"Sweet Soul Music\">Sweet Soul Music</a>\n",
      "<td>\"<a href=\"/wiki/Expressway_to_Your_Heart\" title=\"Expressway to Your Heart\">Expressway to Your Heart</a>\"</td>\n",
      "<a href=\"/wiki/Expressway_to_Your_Heart\" title=\"Expressway to Your Heart\">Expressway to Your Heart</a>\n",
      "<td>\"<a href=\"/wiki/Soul_Man_(song)\" title=\"Soul Man (song)\">Soul Man</a>\"</td>\n",
      "<a href=\"/wiki/Soul_Man_(song)\" title=\"Soul Man (song)\">Soul Man</a>\n",
      "<td>\"<a href=\"/wiki/Never_My_Love\" title=\"Never My Love\">Never My Love</a>\"</td>\n",
      "<a href=\"/wiki/Never_My_Love\" title=\"Never My Love\">Never My Love</a>\n",
      "<td>\"<a href=\"/wiki/Apples,_Peaches,_Pumpkin_Pie\" title=\"Apples, Peaches, Pumpkin Pie\">Apples, Peaches, Pumpkin Pie</a>\"</td>\n",
      "<a href=\"/wiki/Apples,_Peaches,_Pumpkin_Pie\" title=\"Apples, Peaches, Pumpkin Pie\">Apples, Peaches, Pumpkin Pie</a>\n",
      "<td>\"<a class=\"mw-redirect\" href=\"/wiki/Come_on_Down_to_My_Boat\" title=\"Come on Down to My Boat\">Come on Down to My Boat</a>\"</td>\n",
      "<a class=\"mw-redirect\" href=\"/wiki/Come_on_Down_to_My_Boat\" title=\"Come on Down to My Boat\">Come on Down to My Boat</a>\n",
      "<td>\"<a href=\"/wiki/Incense_and_Peppermints_(song)\" title=\"Incense and Peppermints (song)\">Incense and Peppermints</a>\"</td>\n",
      "<a href=\"/wiki/Incense_and_Peppermints_(song)\" title=\"Incense and Peppermints (song)\">Incense and Peppermints</a>\n",
      "<td>\"<a href=\"/wiki/Ruby_Tuesday_(song)\" title=\"Ruby Tuesday (song)\">Ruby Tuesday</a>\"</td>\n",
      "<a href=\"/wiki/Ruby_Tuesday_(song)\" title=\"Ruby Tuesday (song)\">Ruby Tuesday</a>\n",
      "<td>\"<a href=\"/wiki/It_Must_Be_Him_(song)\" title=\"It Must Be Him (song)\">It Must Be Him</a>\"</td>\n",
      "<a href=\"/wiki/It_Must_Be_Him_(song)\" title=\"It Must Be Him (song)\">It Must Be Him</a>\n",
      "<td>\"<a href=\"/wiki/Love_Is_Here_and_Now_You%27re_Gone\" title=\"Love Is Here and Now You're Gone\">Love Is Here and Now You're Gone</a>\"</td>\n",
      "<a href=\"/wiki/Love_Is_Here_and_Now_You%27re_Gone\" title=\"Love Is Here and Now You're Gone\">Love Is Here and Now You're Gone</a>\n",
      "<td>\"<a class=\"mw-redirect\" href=\"/wiki/For_What_It%27s_Worth_(Buffalo_Springfield_song)\" title=\"For What It's Worth (Buffalo Springfield song)\">For What It's Worth</a>\"</td>\n",
      "<a class=\"mw-redirect\" href=\"/wiki/For_What_It%27s_Worth_(Buffalo_Springfield_song)\" title=\"For What It's Worth (Buffalo Springfield song)\">For What It's Worth</a>\n",
      "<td>\"<a href=\"/wiki/Gimme_Little_Sign\" title=\"Gimme Little Sign\">Gimme Little Sign</a>\"</td>\n",
      "<a href=\"/wiki/Gimme_Little_Sign\" title=\"Gimme Little Sign\">Gimme Little Sign</a>\n",
      "<td>\"<a href=\"/wiki/The_Happening_(song)\" title=\"The Happening (song)\">The Happening</a>\"</td>\n",
      "<a href=\"/wiki/The_Happening_(song)\" title=\"The Happening (song)\">The Happening</a>\n",
      "<td>\"<a href=\"/wiki/All_You_Need_Is_Love\" title=\"All You Need Is Love\">All You Need Is Love</a>\"</td>\n",
      "<a href=\"/wiki/All_You_Need_Is_Love\" title=\"All You Need Is Love\">All You Need Is Love</a>\n",
      "<td>\"<a class=\"mw-redirect\" href=\"/wiki/Release_Me_(1946_song)\" title=\"Release Me (1946 song)\">Release Me</a>\"</td>\n",
      "<a class=\"mw-redirect\" href=\"/wiki/Release_Me_(1946_song)\" title=\"Release Me (1946 song)\">Release Me</a>\n",
      "<td>\"<a href=\"/wiki/Your_Precious_Love\" title=\"Your Precious Love\">Your Precious Love</a>\"</td>\n",
      "<a href=\"/wiki/Your_Precious_Love\" title=\"Your Precious Love\">Your Precious Love</a>\n",
      "<td>\"<a href=\"/wiki/Somebody_to_Love_(Jefferson_Airplane_song)\" title=\"Somebody to Love (Jefferson Airplane song)\">Somebody to Love</a>\"</td>\n",
      "<a href=\"/wiki/Somebody_to_Love_(Jefferson_Airplane_song)\" title=\"Somebody to Love (Jefferson Airplane song)\">Somebody to Love</a>\n",
      "<td>\"<a href=\"/wiki/Get_on_Up_(The_Esquires_song)\" title=\"Get on Up (The Esquires song)\">Get on Up</a>\"</td>\n",
      "<a href=\"/wiki/Get_on_Up_(The_Esquires_song)\" title=\"Get on Up (The Esquires song)\">Get on Up</a>\n",
      "<td>\"<a href=\"/wiki/Brown_Eyed_Girl\" title=\"Brown Eyed Girl\">Brown Eyed Girl</a>\"</td>\n",
      "<a href=\"/wiki/Brown_Eyed_Girl\" title=\"Brown Eyed Girl\">Brown Eyed Girl</a>\n",
      "<td>\"<a href=\"/wiki/Jimmy_Mack\" title=\"Jimmy Mack\">Jimmy Mack</a>\"</td>\n",
      "<a href=\"/wiki/Jimmy_Mack\" title=\"Jimmy Mack\">Jimmy Mack</a>\n",
      "<td>\"<a href=\"/wiki/I_Got_Rhythm\" title=\"I Got Rhythm\">I Got Rhythm</a>\"</td>\n",
      "<a href=\"/wiki/I_Got_Rhythm\" title=\"I Got Rhythm\">I Got Rhythm</a>\n",
      "<td>\"<a href=\"/wiki/A_Whiter_Shade_of_Pale\" title=\"A Whiter Shade of Pale\">A Whiter Shade of Pale</a>\"</td>\n",
      "<a href=\"/wiki/A_Whiter_Shade_of_Pale\" title=\"A Whiter Shade of Pale\">A Whiter Shade of Pale</a>\n",
      "<td>\"<a href=\"/wiki/Don%27t_You_Care\" title=\"Don't You Care\">Don't You Care</a>\"</td>\n",
      "<a href=\"/wiki/Don%27t_You_Care\" title=\"Don't You Care\">Don't You Care</a>\n",
      "<td>\"<a href=\"/wiki/Then_You_Can_Tell_Me_Goodbye\" title=\"Then You Can Tell Me Goodbye\">Then You Can Tell Me Goodbye</a>\"</td>\n",
      "<a href=\"/wiki/Then_You_Can_Tell_Me_Goodbye\" title=\"Then You Can Tell Me Goodbye\">Then You Can Tell Me Goodbye</a>\n",
      "<td>\"<a href=\"/wiki/Reflections_(The_Supremes_song)\" title=\"Reflections (The Supremes song)\">Reflections</a>\"</td>\n",
      "<a href=\"/wiki/Reflections_(The_Supremes_song)\" title=\"Reflections (The Supremes song)\">Reflections</a>\n",
      "<td>\"<a href=\"/wiki/On_a_Carousel\" title=\"On a Carousel\">On a Carousel</a>\"</td>\n",
      "<a href=\"/wiki/On_a_Carousel\" title=\"On a Carousel\">On a Carousel</a>\n",
      "<td>\"<a href=\"/wiki/Please_Love_Me_Forever\" title=\"Please Love Me Forever\">Please Love Me Forever</a>\"</td>\n",
      "<a href=\"/wiki/Please_Love_Me_Forever\" title=\"Please Love Me Forever\">Please Love Me Forever</a>\n",
      "<td>\"<a href=\"/wiki/Alfie_(song)\" title=\"Alfie (song)\">Alfie</a>\"</td>\n",
      "<a href=\"/wiki/Alfie_(song)\" title=\"Alfie (song)\">Alfie</a>\n",
      "<td>\"<a href=\"/wiki/Silence_Is_Golden_(song)\" title=\"Silence Is Golden (song)\">Silence Is Golden</a>\"</td>\n",
      "<a href=\"/wiki/Silence_Is_Golden_(song)\" title=\"Silence Is Golden (song)\">Silence Is Golden</a>\n",
      "<td>\"<a href=\"/wiki/My_Cup_Runneth_Over\" title=\"My Cup Runneth Over\">My Cup Runneth Over</a>\"</td>\n",
      "<a href=\"/wiki/My_Cup_Runneth_Over\" title=\"My Cup Runneth Over\">My Cup Runneth Over</a>\n",
      "<td>\"<a href=\"/wiki/Up,_Up_and_Away_(song)\" title=\"Up, Up and Away (song)\">Up, Up and Away</a>\"</td>\n",
      "<a href=\"/wiki/Up,_Up_and_Away_(song)\" title=\"Up, Up and Away (song)\">Up, Up and Away</a>\n",
      "<td>\"<a href=\"/wiki/San_Francisco_(Be_Sure_to_Wear_Flowers_in_Your_Hair)\" title=\"San Francisco (Be Sure to Wear Flowers in Your Hair)\">San Francisco (Be Sure to Wear Flowers in Your Hair)</a>\"</td>\n",
      "<a href=\"/wiki/San_Francisco_(Be_Sure_to_Wear_Flowers_in_Your_Hair)\" title=\"San Francisco (Be Sure to Wear Flowers in Your Hair)\">San Francisco (Be Sure to Wear Flowers in Your Hair)</a>\n",
      "<td>\"<a class=\"mw-redirect\" href=\"/wiki/The_Rain,_The_Park_%26_Other_Things\" title=\"The Rain, The Park &amp; Other Things\">The Rain, The Park &amp; Other Things</a>\"</td>\n",
      "<a class=\"mw-redirect\" href=\"/wiki/The_Rain,_The_Park_%26_Other_Things\" title=\"The Rain, The Park &amp; Other Things\">The Rain, The Park &amp; Other Things</a>\n",
      "<td>\"<a href=\"/wiki/There%27s_a_Kind_of_Hush\" title=\"There's a Kind of Hush\">There's a Kind of Hush</a>\"</td>\n",
      "<a href=\"/wiki/There%27s_a_Kind_of_Hush\" title=\"There's a Kind of Hush\">There's a Kind of Hush</a>\n",
      "<td>\"<a href=\"/wiki/Mercy,_Mercy,_Mercy\" title=\"Mercy, Mercy, Mercy\">Mercy, Mercy, Mercy</a>\"</td>\n",
      "<a href=\"/wiki/Mercy,_Mercy,_Mercy\" title=\"Mercy, Mercy, Mercy\">Mercy, Mercy, Mercy</a>\n",
      "<td>\"<a href=\"/wiki/This_Is_My_Song_(1967_song)\" title=\"This Is My Song (1967 song)\">This Is My Song</a>\"</td>\n",
      "<a href=\"/wiki/This_Is_My_Song_(1967_song)\" title=\"This Is My Song (1967 song)\">This Is My Song</a>\n",
      "<td>\"<a href=\"/wiki/(Your_Love_Keeps_Lifting_Me)_Higher_and_Higher\" title=\"(Your Love Keeps Lifting Me) Higher and Higher\">(Your Love Keeps Lifting Me) Higher and Higher</a>\"</td>\n",
      "<a href=\"/wiki/(Your_Love_Keeps_Lifting_Me)_Higher_and_Higher\" title=\"(Your Love Keeps Lifting Me) Higher and Higher\">(Your Love Keeps Lifting Me) Higher and Higher</a>\n",
      "<td>\"I've Been Lonely Too Long\"</td>\n",
      "None\n",
      "<td>\"<a href=\"/wiki/Penny_Lane\" title=\"Penny Lane\">Penny Lane</a>\"</td>\n",
      "<a href=\"/wiki/Penny_Lane\" title=\"Penny Lane\">Penny Lane</a>\n",
      "<td>\"<a href=\"/wiki/You%27re_My_Everything_(The_Temptations_song)\" title=\"You're My Everything (The Temptations song)\">You're My Everything</a>\"</td>\n",
      "<a href=\"/wiki/You%27re_My_Everything_(The_Temptations_song)\" title=\"You're My Everything (The Temptations song)\">You're My Everything</a>\n",
      "<td>\"<a href=\"/wiki/Georgy_Girl_(song)\" title=\"Georgy Girl (song)\">Georgy Girl</a>\"</td>\n",
      "<a href=\"/wiki/Georgy_Girl_(song)\" title=\"Georgy Girl (song)\">Georgy Girl</a>\n",
      "<td>\"<a href=\"/wiki/Western_Union_(Five_Americans_song)\" title=\"Western Union (Five Americans song)\">Western Union</a>\"</td>\n",
      "<a href=\"/wiki/Western_Union_(Five_Americans_song)\" title=\"Western Union (Five Americans song)\">Western Union</a>\n",
      "<td>\"<a href=\"/wiki/Baby_I_Love_You_(Aretha_Franklin_song)\" title=\"Baby I Love You (Aretha Franklin song)\">Baby I Love You</a>\"</td>\n",
      "<a href=\"/wiki/Baby_I_Love_You_(Aretha_Franklin_song)\" title=\"Baby I Love You (Aretha Franklin song)\">Baby I Love You</a>\n",
      "<td>\"<a href=\"/wiki/A_Little_Bit_Me,_a_Little_Bit_You\" title=\"A Little Bit Me, a Little Bit You\">A Little Bit Me, a Little Bit You</a>\"</td>\n",
      "<a href=\"/wiki/A_Little_Bit_Me,_a_Little_Bit_You\" title=\"A Little Bit Me, a Little Bit You\">A Little Bit Me, a Little Bit You</a>\n",
      "<td>\"<a href=\"/wiki/California_Nights\" title=\"California Nights\">California Nights</a>\"</td>\n",
      "<a href=\"/wiki/California_Nights\" title=\"California Nights\">California Nights</a>\n",
      "<td>\"<a href=\"/wiki/Dedicated_to_the_One_I_Love\" title=\"Dedicated to the One I Love\">Dedicated to the One I Love</a>\"</td>\n",
      "<a href=\"/wiki/Dedicated_to_the_One_I_Love\" title=\"Dedicated to the One I Love\">Dedicated to the One I Love</a>\n",
      "<td>\"<a href=\"/wiki/How_Can_I_Be_Sure\" title=\"How Can I Be Sure\">How Can I Be Sure</a>\"</td>\n",
      "<a href=\"/wiki/How_Can_I_Be_Sure\" title=\"How Can I Be Sure\">How Can I Be Sure</a>\n",
      "<td>\"<a href=\"/wiki/Carrie_Anne\" title=\"Carrie Anne\">Carrie Anne</a>\"</td>\n",
      "<a href=\"/wiki/Carrie_Anne\" title=\"Carrie Anne\">Carrie Anne</a>\n",
      "<td>\"<a href=\"/wiki/(We_Ain%27t_Got)_Nothin%27_Yet\" title=\"(We Ain't Got) Nothin' Yet\">(We Ain't Got) Nothin' Yet</a>\"</td>\n",
      "<a href=\"/wiki/(We_Ain%27t_Got)_Nothin%27_Yet\" title=\"(We Ain't Got) Nothin' Yet\">(We Ain't Got) Nothin' Yet</a>\n",
      "<td>\"<a href=\"/wiki/Friday_on_My_Mind\" title=\"Friday on My Mind\">Friday on My Mind</a>\"</td>\n",
      "<a href=\"/wiki/Friday_on_My_Mind\" title=\"Friday on My Mind\">Friday on My Mind</a>\n",
      "<td>\"<a href=\"/wiki/Soul_Finger\" title=\"Soul Finger\">Soul Finger</a>\"</td>\n",
      "<a href=\"/wiki/Soul_Finger\" title=\"Soul Finger\">Soul Finger</a>\n",
      "<td>\"<a href=\"/wiki/Gimme_Some_Lovin%27\" title=\"Gimme Some Lovin'\">Gimme Some Lovin'</a>\"</td>\n",
      "<a href=\"/wiki/Gimme_Some_Lovin%27\" title=\"Gimme Some Lovin'\">Gimme Some Lovin'</a>\n",
      "<td>\"<a href=\"/wiki/Let_It_Out_(Let_It_All_Hang_Out)\" title=\"Let It Out (Let It All Hang Out)\">Let It Out (Let It All Hang Out)</a>\"</td>\n",
      "<a href=\"/wiki/Let_It_Out_(Let_It_All_Hang_Out)\" title=\"Let It Out (Let It All Hang Out)\">Let It Out (Let It All Hang Out)</a>\n",
      "<td>\"<a href=\"/wiki/Let%27s_Live_for_Today_(song)\" title=\"Let's Live for Today (song)\">Let's Live for Today</a>\"</td>\n",
      "<a href=\"/wiki/Let%27s_Live_for_Today_(song)\" title=\"Let's Live for Today (song)\">Let's Live for Today</a>\n",
      "<td>\"Close Your Eyes\"</td>\n",
      "None\n",
      "<td>\"<a href=\"/wiki/Groovin%27\" title=\"Groovin'\">Groovin'</a>\"</td>\n",
      "<a href=\"/wiki/Groovin%27\" title=\"Groovin'\">Groovin'</a>\n",
      "<td>\"<a href=\"/wiki/Funky_Broadway\" title=\"Funky Broadway\">Funky Broadway</a>\"</td>\n",
      "<a href=\"/wiki/Funky_Broadway\" title=\"Funky Broadway\">Funky Broadway</a>\n",
      "<td>\"<a href=\"/wiki/Pleasant_Valley_Sunday\" title=\"Pleasant Valley Sunday\">Pleasant Valley Sunday</a>\"</td>\n",
      "<a href=\"/wiki/Pleasant_Valley_Sunday\" title=\"Pleasant Valley Sunday\">Pleasant Valley Sunday</a>\n",
      "<td>\"<a href=\"/wiki/I_Never_Loved_a_Man_(The_Way_I_Love_You)\" title=\"I Never Loved a Man (The Way I Love You)\">I Never Loved a Man (The Way I Love You)</a>\"</td>\n",
      "<a href=\"/wiki/I_Never_Loved_a_Man_(The_Way_I_Love_You)\" title=\"I Never Loved a Man (The Way I Love You)\">I Never Loved a Man (The Way I Love You)</a>\n",
      "<td>\"<a href=\"/wiki/Tell_It_Like_It_Is_(song)\" title=\"Tell It Like It Is (song)\">Tell It Like It Is</a>\"</td>\n",
      "<a href=\"/wiki/Tell_It_Like_It_Is_(song)\" title=\"Tell It Like It Is (song)\">Tell It Like It Is</a>\n",
      "<td>\"<a href=\"/wiki/Cold_Sweat\" title=\"Cold Sweat\">Cold Sweat</a>\"</td>\n",
      "<a href=\"/wiki/Cold_Sweat\" title=\"Cold Sweat\">Cold Sweat</a>\n",
      "<td>\"<a href=\"/wiki/She%27d_Rather_Be_with_Me\" title=\"She'd Rather Be with Me\">She'd Rather Be with Me</a>\"</td>\n",
      "<a href=\"/wiki/She%27d_Rather_Be_with_Me\" title=\"She'd Rather Be with Me\">She'd Rather Be with Me</a>\n",
      "<td>\"<a href=\"/wiki/98.6_(song)\" title=\"98.6 (song)\">98.6</a>\"</td>\n",
      "<a href=\"/wiki/98.6_(song)\" title=\"98.6 (song)\">98.6</a>\n",
      "<td>\"<a href=\"/wiki/Here_We_Go_Again_(Ray_Charles_song)\" title=\"Here We Go Again (Ray Charles song)\">Here We Go Again</a>\"</td>\n",
      "<a href=\"/wiki/Here_We_Go_Again_(Ray_Charles_song)\" title=\"Here We Go Again (Ray Charles song)\">Here We Go Again</a>\n",
      "<td>\"<a href=\"/wiki/White_Rabbit_(song)\" title=\"White Rabbit (song)\">White Rabbit</a>\"</td>\n",
      "<a href=\"/wiki/White_Rabbit_(song)\" title=\"White Rabbit (song)\">White Rabbit</a>\n",
      "<td>\"<a href=\"/wiki/Bernadette_(Four_Tops_song)\" title=\"Bernadette (Four Tops song)\">Bernadette</a>\"</td>\n",
      "<a href=\"/wiki/Bernadette_(Four_Tops_song)\" title=\"Bernadette (Four Tops song)\">Bernadette</a>\n",
      "<td>\"<a href=\"/wiki/The_Beat_Goes_On_(Sonny_%26_Cher_song)\" title=\"The Beat Goes On (Sonny &amp; Cher song)\">The Beat Goes On</a>\"</td>\n",
      "<a href=\"/wiki/The_Beat_Goes_On_(Sonny_%26_Cher_song)\" title=\"The Beat Goes On (Sonny &amp; Cher song)\">The Beat Goes On</a>\n",
      "<td>\"<a href=\"/wiki/Snoopy_vs._the_Red_Baron_(song)\" title=\"Snoopy vs. the Red Baron (song)\">Snoopy Vs. The Red Baron</a>\"</td>\n",
      "<a href=\"/wiki/Snoopy_vs._the_Red_Baron_(song)\" title=\"Snoopy vs. the Red Baron (song)\">Snoopy Vs. The Red Baron</a>\n",
      "<td>\"<a href=\"/wiki/Society%27s_Child\" title=\"Society's Child\">Society's Child</a>\"</td>\n",
      "<a href=\"/wiki/Society%27s_Child\" title=\"Society's Child\">Society's Child</a>\n",
      "<td>\"<a href=\"/wiki/Girl,_You%27ll_Be_a_Woman_Soon\" title=\"Girl, You'll Be a Woman Soon\">Girl, You'll Be a Woman Soon</a>\"</td>\n",
      "<a href=\"/wiki/Girl,_You%27ll_Be_a_Woman_Soon\" title=\"Girl, You'll Be a Woman Soon\">Girl, You'll Be a Woman Soon</a>\n",
      "<td>\"<a href=\"/wiki/Ain%27t_No_Mountain_High_Enough\" title=\"Ain't No Mountain High Enough\">Ain't No Mountain High Enough</a>\"</td>\n",
      "<a href=\"/wiki/Ain%27t_No_Mountain_High_Enough\" title=\"Ain't No Mountain High Enough\">Ain't No Mountain High Enough</a>\n",
      "<td>\"I Take It Back\"</td>\n",
      "None\n",
      "<td>\"<a href=\"/wiki/Here_Comes_My_Baby_(Cat_Stevens_song)\" title=\"Here Comes My Baby (Cat Stevens song)\">Here Comes My Baby</a>\"</td>\n",
      "<a href=\"/wiki/Here_Comes_My_Baby_(Cat_Stevens_song)\" title=\"Here Comes My Baby (Cat Stevens song)\">Here Comes My Baby</a>\n",
      "<td>\"<a href=\"/wiki/Everlasting_Love\" title=\"Everlasting Love\">Everlasting Love</a>\"</td>\n",
      "<a href=\"/wiki/Everlasting_Love\" title=\"Everlasting Love\">Everlasting Love</a>\n",
      "<td>\"<a href=\"/wiki/I_Dig_Rock_and_Roll_Music\" title=\"I Dig Rock and Roll Music\">I Dig Rock and Roll Music</a>\"</td>\n",
      "<a href=\"/wiki/I_Dig_Rock_and_Roll_Music\" title=\"I Dig Rock and Roll Music\">I Dig Rock and Roll Music</a>\n",
      "<td>\"<a href=\"/wiki/Little_Ole_Man_(Uptight,_Everything%27s_Alright)\" title=\"Little Ole Man (Uptight, Everything's Alright)\">Little Ole Man (Uptight, Everything's Alright)</a>\"</td>\n",
      "<a href=\"/wiki/Little_Ole_Man_(Uptight,_Everything%27s_Alright)\" title=\"Little Ole Man (Uptight, Everything's Alright)\">Little Ole Man (Uptight, Everything's Alright)</a>\n",
      "<td>\"<a href=\"/wiki/I_Had_Too_Much_to_Dream_(Last_Night)\" title=\"I Had Too Much to Dream (Last Night)\">I Had Too Much to Dream (Last Night)</a>\"</td>\n",
      "<a href=\"/wiki/I_Had_Too_Much_to_Dream_(Last_Night)\" title=\"I Had Too Much to Dream (Last Night)\">I Had Too Much to Dream (Last Night)</a>\n",
      "<td>\"<a href=\"/wiki/Daydream_Believer\" title=\"Daydream Believer\">Daydream Believer</a>\"</td>\n",
      "<a href=\"/wiki/Daydream_Believer\" title=\"Daydream Believer\">Daydream Believer</a>\n",
      "<td>\"<a href=\"/wiki/Baby_I_Need_Your_Loving\" title=\"Baby I Need Your Loving\">Baby I Need Your Lovin'</a>\"</td>\n",
      "<a href=\"/wiki/Baby_I_Need_Your_Loving\" title=\"Baby I Need Your Loving\">Baby I Need Your Lovin'</a>\n",
      "<td>\"<a href=\"/wiki/Mirage_(Tommy_James_and_the_Shondells_song)\" title=\"Mirage (Tommy James and the Shondells song)\">Mirage</a>\"</td>\n",
      "<a href=\"/wiki/Mirage_(Tommy_James_and_the_Shondells_song)\" title=\"Mirage (Tommy James and the Shondells song)\">Mirage</a>\n",
      "<td>\"<a href=\"/wiki/Green,_Green_Grass_of_Home\" title=\"Green, Green Grass of Home\">Green, Green Grass of Home</a>\"</td>\n",
      "<a href=\"/wiki/Green,_Green_Grass_of_Home\" title=\"Green, Green Grass of Home\">Green, Green Grass of Home</a>\n",
      "<td>\"<a href=\"/wiki/I_Can_See_for_Miles\" title=\"I Can See for Miles\">I Can See for Miles</a>\"</td>\n",
      "<a href=\"/wiki/I_Can_See_for_Miles\" title=\"I Can See for Miles\">I Can See for Miles</a>\n",
      "<td>\"<a href=\"/wiki/Don%27t_Sleep_in_the_Subway\" title=\"Don't Sleep in the Subway\">Don't Sleep in the Subway</a>\"</td>\n",
      "<a href=\"/wiki/Don%27t_Sleep_in_the_Subway\" title=\"Don't Sleep in the Subway\">Don't Sleep in the Subway</a>\n",
      "<td>\"Thank The Lord For The Night Time\"</td>\n",
      "None\n"
     ]
    }
   ],
   "source": [
    "links, songs = get_full_song_links()"
   ]
  },
  {
   "cell_type": "code",
   "execution_count": 26,
   "metadata": {},
   "outputs": [],
   "source": [
    "import pandas as pd\n",
    "import numpy as np"
   ]
  },
  {
   "cell_type": "code",
   "execution_count": 32,
   "metadata": {},
   "outputs": [],
   "source": [
    "table = pd.DataFrame(list(zip([1990]*min(len(artists),len(songs),len(links)),songs, artists, links)), columns=['Year','Song','Artist','Song Link'])"
   ]
  },
  {
   "cell_type": "code",
   "execution_count": 34,
   "metadata": {
    "collapsed": true
   },
   "outputs": [],
   "source": [
    "def get_the_right_table(table):\n",
    "    attributes = table.attrs\n",
    "    table_class_list = []\n",
    "    class_name=''\n",
    "    if 'class' in attributes:\n",
    "        table_classes = table.attrs['class']\n",
    "        for class_name in table_classes:\n",
    "            table_class_list.append(class_name.encode('ascii','ignore'))\n",
    "        class_name = \" \".join(table_class_list)\n",
    "        return(class_name)"
   ]
  },
  {
   "cell_type": "code",
   "execution_count": 55,
   "metadata": {},
   "outputs": [],
   "source": [
    "#for index, row in table.iterrows():\n",
    "#    print('Artist',row['Artist'])\n",
    "#    print('Song',row['Song'])"
   ]
  },
  {
   "cell_type": "code",
   "execution_count": 37,
   "metadata": {},
   "outputs": [],
   "source": [
    "def get_genres(table):\n",
    "    genre_dict = dict()\n",
    "    songs = []\n",
    "    for index, row in table.iterrows():\n",
    "        #print('Song',row['Song'])\n",
    "        #print('Artist',row['Artist'])\n",
    "        try:\n",
    "            result = requests.get(row['Song Link'])\n",
    "            content = result.content\n",
    "            html = BeautifulSoup(content, 'html.parser')\n",
    "            tables = html.findChildren('table')\n",
    "            my_table = ''\n",
    "            for table in tables:\n",
    "                if get_the_right_table(table) == \"infobox vevent\":\n",
    "                    my_table = table\n",
    "                    all_as = [a.text.encode('ascii','ignore') for a in my_table.find_all('a')]\n",
    "                    genres = all_as[all_as.index('Genre')+1:all_as.index('Label')]\n",
    "                    # the solution is from https://stackoverflow.com/questions/20585920/how-to-add-multiple-values-to-a-dictionary-key-in-python\n",
    "                    key = row['Song']\n",
    "                    #print(row['Song'])\n",
    "                    genre_dict.setdefault(key, [])\n",
    "                    genre_dict[key].append(genres)\n",
    "                    #print(genre_dict[key])\n",
    "        except Exception:\n",
    "            pass\n",
    "    return(genre_dict)"
   ]
  },
  {
   "cell_type": "code",
   "execution_count": 38,
   "metadata": {
    "scrolled": false
   },
   "outputs": [],
   "source": [
    "#if hasNumbers(a.text.encode('ascii','ignore'))\n",
    "genre_dict = get_genres(table)"
   ]
  },
  {
   "cell_type": "code",
   "execution_count": 39,
   "metadata": {},
   "outputs": [
    {
     "data": {
      "text/plain": [
       "87"
      ]
     },
     "execution_count": 39,
     "metadata": {},
     "output_type": "execute_result"
    }
   ],
   "source": [
    "len(genre_dict)"
   ]
  },
  {
   "cell_type": "code",
   "execution_count": 40,
   "metadata": {},
   "outputs": [],
   "source": [
    "genre_list = []\n",
    "# flatten out the genres list which is multidimensional\n",
    "for genre in genre_dict.values():\n",
    "    genres = [x for sublist in genre for x in sublist]\n",
    "    genre_list.append(genres)"
   ]
  },
  {
   "cell_type": "code",
   "execution_count": 41,
   "metadata": {},
   "outputs": [],
   "source": [
    "df_genres = pd.DataFrame(np.column_stack([genre_dict.keys(), genre_list]), \n",
    "                               columns=['Song','Genres'])"
   ]
  },
  {
   "cell_type": "code",
   "execution_count": 56,
   "metadata": {},
   "outputs": [
    {
     "data": {
      "text/html": [
       "<div>\n",
       "<style>\n",
       "    .dataframe thead tr:only-child th {\n",
       "        text-align: right;\n",
       "    }\n",
       "\n",
       "    .dataframe thead th {\n",
       "        text-align: left;\n",
       "    }\n",
       "\n",
       "    .dataframe tbody tr th {\n",
       "        vertical-align: top;\n",
       "    }\n",
       "</style>\n",
       "<table border=\"1\" class=\"dataframe\">\n",
       "  <thead>\n",
       "    <tr style=\"text-align: right;\">\n",
       "      <th></th>\n",
       "      <th>Song</th>\n",
       "      <th>Final Genres</th>\n",
       "    </tr>\n",
       "  </thead>\n",
       "  <tbody>\n",
       "    <tr>\n",
       "      <th>0</th>\n",
       "      <td>Everlasting Love</td>\n",
       "      <td>Soul,Pop,Disco,Pop,Pop,Electropop,Dance</td>\n",
       "    </tr>\n",
       "    <tr>\n",
       "      <th>1</th>\n",
       "      <td>Baby I Love You</td>\n",
       "      <td>Soul</td>\n",
       "    </tr>\n",
       "    <tr>\n",
       "      <th>2</th>\n",
       "      <td>Dedicated to the One I Love</td>\n",
       "      <td>Pop,Soul,Pop</td>\n",
       "    </tr>\n",
       "    <tr>\n",
       "      <th>3</th>\n",
       "      <td>For What It's Worth</td>\n",
       "      <td>Folk Rock,Country Rock,Psychedelic Rock</td>\n",
       "    </tr>\n",
       "    <tr>\n",
       "      <th>4</th>\n",
       "      <td>Here Comes My Baby</td>\n",
       "      <td>Beat</td>\n",
       "    </tr>\n",
       "  </tbody>\n",
       "</table>\n",
       "</div>"
      ],
      "text/plain": [
       "                          Song                             Final Genres\n",
       "0             Everlasting Love  Soul,Pop,Disco,Pop,Pop,Electropop,Dance\n",
       "1              Baby I Love You                                     Soul\n",
       "2  Dedicated to the One I Love                             Pop,Soul,Pop\n",
       "3          For What It's Worth  Folk Rock,Country Rock,Psychedelic Rock\n",
       "4           Here Comes My Baby                                     Beat"
      ]
     },
     "execution_count": 56,
     "metadata": {},
     "output_type": "execute_result"
    }
   ],
   "source": [
    "df_genres.head(5)"
   ]
  },
  {
   "cell_type": "code",
   "execution_count": 43,
   "metadata": {
    "collapsed": true
   },
   "outputs": [],
   "source": [
    "# df_genres = pd.DataFrame(list(genre_dict.items()), columns=['Song', 'Genres'])"
   ]
  },
  {
   "cell_type": "code",
   "execution_count": 44,
   "metadata": {},
   "outputs": [
    {
     "data": {
      "text/plain": [
       "Song      object\n",
       "Genres    object\n",
       "dtype: object"
      ]
     },
     "execution_count": 44,
     "metadata": {},
     "output_type": "execute_result"
    }
   ],
   "source": [
    "df_genres.dtypes"
   ]
  },
  {
   "cell_type": "code",
   "execution_count": 45,
   "metadata": {},
   "outputs": [
    {
     "data": {
      "text/plain": [
       "2                                     [Pop, soul, Pop]\n",
       "3    [Folk rock, [1], country rock, [2], psychedeli...\n",
       "4                                               [Beat]\n",
       "5                              [Psychedelic rock, [1]]\n",
       "Name: Genres, dtype: object"
      ]
     },
     "execution_count": 45,
     "metadata": {},
     "output_type": "execute_result"
    }
   ],
   "source": [
    "df_genres.loc[2:5,'Genres']"
   ]
  },
  {
   "cell_type": "code",
   "execution_count": 48,
   "metadata": {},
   "outputs": [],
   "source": [
    "import re\n",
    "def remove_numbers(my_list):\n",
    "    final_genres = []\n",
    "    for x in my_list:\n",
    "        if not re.search('\\d+', x):\n",
    "            final_genres.append(x.title())\n",
    "    return(\",\".join(final_genres))"
   ]
  },
  {
   "cell_type": "code",
   "execution_count": 49,
   "metadata": {
    "collapsed": true
   },
   "outputs": [],
   "source": [
    "df = df_genres"
   ]
  },
  {
   "cell_type": "code",
   "execution_count": 50,
   "metadata": {},
   "outputs": [],
   "source": [
    "df['Final Genres'] = df['Genres'].apply(remove_numbers)"
   ]
  },
  {
   "cell_type": "code",
   "execution_count": 51,
   "metadata": {},
   "outputs": [
    {
     "data": {
      "text/html": [
       "<div>\n",
       "<style>\n",
       "    .dataframe thead tr:only-child th {\n",
       "        text-align: right;\n",
       "    }\n",
       "\n",
       "    .dataframe thead th {\n",
       "        text-align: left;\n",
       "    }\n",
       "\n",
       "    .dataframe tbody tr th {\n",
       "        vertical-align: top;\n",
       "    }\n",
       "</style>\n",
       "<table border=\"1\" class=\"dataframe\">\n",
       "  <thead>\n",
       "    <tr style=\"text-align: right;\">\n",
       "      <th></th>\n",
       "      <th>Song</th>\n",
       "      <th>Genres</th>\n",
       "      <th>Final Genres</th>\n",
       "    </tr>\n",
       "  </thead>\n",
       "  <tbody>\n",
       "    <tr>\n",
       "      <th>0</th>\n",
       "      <td>Everlasting Love</td>\n",
       "      <td>[Soul, Pop, Disco, Pop, Pop, Electropop, dance]</td>\n",
       "      <td>Soul,Pop,Disco,Pop,Pop,Electropop,Dance</td>\n",
       "    </tr>\n",
       "    <tr>\n",
       "      <th>1</th>\n",
       "      <td>Baby I Love You</td>\n",
       "      <td>[Soul]</td>\n",
       "      <td>Soul</td>\n",
       "    </tr>\n",
       "    <tr>\n",
       "      <th>2</th>\n",
       "      <td>Dedicated to the One I Love</td>\n",
       "      <td>[Pop, soul, Pop]</td>\n",
       "      <td>Pop,Soul,Pop</td>\n",
       "    </tr>\n",
       "    <tr>\n",
       "      <th>3</th>\n",
       "      <td>For What It's Worth</td>\n",
       "      <td>[Folk rock, [1], country rock, [2], psychedeli...</td>\n",
       "      <td>Folk Rock,Country Rock,Psychedelic Rock</td>\n",
       "    </tr>\n",
       "  </tbody>\n",
       "</table>\n",
       "</div>"
      ],
      "text/plain": [
       "                          Song  \\\n",
       "0             Everlasting Love   \n",
       "1              Baby I Love You   \n",
       "2  Dedicated to the One I Love   \n",
       "3          For What It's Worth   \n",
       "\n",
       "                                              Genres  \\\n",
       "0    [Soul, Pop, Disco, Pop, Pop, Electropop, dance]   \n",
       "1                                             [Soul]   \n",
       "2                                   [Pop, soul, Pop]   \n",
       "3  [Folk rock, [1], country rock, [2], psychedeli...   \n",
       "\n",
       "                              Final Genres  \n",
       "0  Soul,Pop,Disco,Pop,Pop,Electropop,Dance  \n",
       "1                                     Soul  \n",
       "2                             Pop,Soul,Pop  \n",
       "3  Folk Rock,Country Rock,Psychedelic Rock  "
      ]
     },
     "execution_count": 51,
     "metadata": {},
     "output_type": "execute_result"
    }
   ],
   "source": [
    "df.head(4)"
   ]
  },
  {
   "cell_type": "code",
   "execution_count": 52,
   "metadata": {},
   "outputs": [],
   "source": [
    "del df['Genres']"
   ]
  },
  {
   "cell_type": "code",
   "execution_count": 53,
   "metadata": {},
   "outputs": [
    {
     "data": {
      "text/html": [
       "<div>\n",
       "<style>\n",
       "    .dataframe thead tr:only-child th {\n",
       "        text-align: right;\n",
       "    }\n",
       "\n",
       "    .dataframe thead th {\n",
       "        text-align: left;\n",
       "    }\n",
       "\n",
       "    .dataframe tbody tr th {\n",
       "        vertical-align: top;\n",
       "    }\n",
       "</style>\n",
       "<table border=\"1\" class=\"dataframe\">\n",
       "  <thead>\n",
       "    <tr style=\"text-align: right;\">\n",
       "      <th></th>\n",
       "      <th>Song</th>\n",
       "      <th>Final Genres</th>\n",
       "    </tr>\n",
       "  </thead>\n",
       "  <tbody>\n",
       "    <tr>\n",
       "      <th>0</th>\n",
       "      <td>Everlasting Love</td>\n",
       "      <td>Soul,Pop,Disco,Pop,Pop,Electropop,Dance</td>\n",
       "    </tr>\n",
       "    <tr>\n",
       "      <th>1</th>\n",
       "      <td>Baby I Love You</td>\n",
       "      <td>Soul</td>\n",
       "    </tr>\n",
       "    <tr>\n",
       "      <th>2</th>\n",
       "      <td>Dedicated to the One I Love</td>\n",
       "      <td>Pop,Soul,Pop</td>\n",
       "    </tr>\n",
       "    <tr>\n",
       "      <th>3</th>\n",
       "      <td>For What It's Worth</td>\n",
       "      <td>Folk Rock,Country Rock,Psychedelic Rock</td>\n",
       "    </tr>\n",
       "    <tr>\n",
       "      <th>4</th>\n",
       "      <td>Here Comes My Baby</td>\n",
       "      <td>Beat</td>\n",
       "    </tr>\n",
       "  </tbody>\n",
       "</table>\n",
       "</div>"
      ],
      "text/plain": [
       "                          Song                             Final Genres\n",
       "0             Everlasting Love  Soul,Pop,Disco,Pop,Pop,Electropop,Dance\n",
       "1              Baby I Love You                                     Soul\n",
       "2  Dedicated to the One I Love                             Pop,Soul,Pop\n",
       "3          For What It's Worth  Folk Rock,Country Rock,Psychedelic Rock\n",
       "4           Here Comes My Baby                                     Beat"
      ]
     },
     "execution_count": 53,
     "metadata": {},
     "output_type": "execute_result"
    }
   ],
   "source": [
    "df.head(5)"
   ]
  },
  {
   "cell_type": "code",
   "execution_count": 54,
   "metadata": {},
   "outputs": [],
   "source": [
    "df.to_csv('song_genres_1968.csv')"
   ]
  },
  {
   "cell_type": "code",
   "execution_count": null,
   "metadata": {
    "collapsed": true
   },
   "outputs": [],
   "source": []
  },
  {
   "cell_type": "code",
   "execution_count": null,
   "metadata": {
    "collapsed": true
   },
   "outputs": [],
   "source": []
  },
  {
   "cell_type": "code",
   "execution_count": 151,
   "metadata": {},
   "outputs": [],
   "source": [
    "# [type(x) for x in df['Genres']]"
   ]
  },
  {
   "cell_type": "code",
   "execution_count": null,
   "metadata": {
    "collapsed": true
   },
   "outputs": [],
   "source": [
    "# reference\n",
    "# https://codereview.stackexchange.com/questions/55756/tough-list-comprehension-split-letters-and-numbers\n",
    "# https://spapas.github.io/2016/04/27/python-nested-list-comprehensions/\n",
    "# http://jonathansoma.com/lede/foundations/classes/pandas%20columns%20and%20functions/apply-a-function-to-every-row-in-a-pandas-dataframe/"
   ]
  },
  {
   "cell_type": "code",
   "execution_count": 240,
   "metadata": {},
   "outputs": [],
   "source": [
    "# [x for x in df['Genres'] if not any(str.isdigit(c) for c in x)]\n",
    "#[\", \".join(x) for x in df['Genres'] if not any(str.isdigit(c) for c in x)]"
   ]
  },
  {
   "cell_type": "code",
   "execution_count": null,
   "metadata": {
    "collapsed": true
   },
   "outputs": [],
   "source": []
  },
  {
   "cell_type": "code",
   "execution_count": 50,
   "metadata": {
    "collapsed": true
   },
   "outputs": [],
   "source": [
    "### The next line is some awesome shit"
   ]
  },
  {
   "cell_type": "code",
   "execution_count": null,
   "metadata": {},
   "outputs": [],
   "source": [
    "songs = genre_dict.keys()\n",
    "song_genres = genre_dict.values()\n",
    "genre_list = []\n",
    "# flatten out the genres list which is multidimensional\n",
    "for genre,song in zip(song_genres,songs):\n",
    "    genres = [x for sublist in genre for x in sublist]\n",
    "    for genre in genres:\n",
    "        while not any(str.isdigit(c) for c in genre):\n",
    "            #print(genre)\n",
    "            genre_list.append(genre)\n",
    "    genre_list.append(genres)"
   ]
  },
  {
   "cell_type": "code",
   "execution_count": null,
   "metadata": {
    "collapsed": true
   },
   "outputs": [],
   "source": []
  },
  {
   "cell_type": "code",
   "execution_count": null,
   "metadata": {
    "collapsed": true
   },
   "outputs": [],
   "source": []
  },
  {
   "cell_type": "code",
   "execution_count": 227,
   "metadata": {},
   "outputs": [],
   "source": [
    "result = requests.get('https://en.wikipedia.org/wiki/Let_It_Go_(Disney_song)')\n",
    "content = result.content\n",
    "html = BeautifulSoup(content, 'html.parser')"
   ]
  },
  {
   "cell_type": "code",
   "execution_count": 228,
   "metadata": {
    "collapsed": true
   },
   "outputs": [],
   "source": [
    "tables = html.findChildren('table')"
   ]
  },
  {
   "cell_type": "code",
   "execution_count": 229,
   "metadata": {},
   "outputs": [
    {
     "data": {
      "text/plain": [
       "27"
      ]
     },
     "execution_count": 229,
     "metadata": {},
     "output_type": "execute_result"
    }
   ],
   "source": [
    "len(tables)"
   ]
  },
  {
   "cell_type": "code",
   "execution_count": null,
   "metadata": {
    "collapsed": true
   },
   "outputs": [],
   "source": []
  },
  {
   "cell_type": "code",
   "execution_count": 230,
   "metadata": {},
   "outputs": [],
   "source": [
    "def get_the_right_table(table):\n",
    "    attributes = table.attrs\n",
    "    table_class_list = []\n",
    "    class_name=''\n",
    "    if 'class' in attributes:\n",
    "        table_classes = table.attrs['class']\n",
    "        for class_name in table_classes:\n",
    "            table_class_list.append(class_name.encode('ascii','ignore'))\n",
    "        class_name = \" \".join(table_class_list)\n",
    "        return(class_name)"
   ]
  },
  {
   "cell_type": "code",
   "execution_count": null,
   "metadata": {
    "collapsed": true
   },
   "outputs": [],
   "source": []
  },
  {
   "cell_type": "code",
   "execution_count": null,
   "metadata": {
    "collapsed": true
   },
   "outputs": [],
   "source": [
    "sicko = []\n",
    "for table in tables:\n",
    "    if get_the_right_table(table) == \"infobox vevent\":\n",
    "        print('yes')\n",
    "        sicko."
   ]
  },
  {
   "cell_type": "code",
   "execution_count": 244,
   "metadata": {},
   "outputs": [
    {
     "name": "stdout",
     "output_type": "stream",
     "text": [
      "hello hello hello\n",
      "['Song', 'Idina Menzel', 'Frozen', 'Wonderland Music Company', '[1]', 'Label', 'Walt Disney', 'Songwriter(s)', 'Kristen Anderson-Lopez', 'Robert Lopez', 'Frozen', 'Love Is an Open Door', 'Reindeer(s) Are Better Than People', '\"Let It Go\"', 'YouTube']\n",
      "hello hello hello\n",
      "['', 'Single', 'Demi Lovato', 'Frozen', 'Digital download', '[1]', 'Genre', 'Pop rock', 'Label', 'Walt Disney', 'Songwriter(s)', 'Kristen Anderson-Lopez', 'Robert Lopez', 'Producer(s)', 'Emanuel Kiriakou', 'Andrew Goldstein', 'Demi Lovato', 'Made in the USA', 'Neon Lights', 'Made in the USA', 'Neon Lights', '\"Let It Go\"', 'YouTube']\n",
      "hello hello hello\n",
      "['', 'Single', 'Idina Menzel', 'Frozen', 'Digital download', '[1]', 'Genre', 'Show tune', 'Label', 'Walt Disney', 'Songwriter(s)', 'Kristen Anderson-Lopez', 'Robert Lopez', 'Producer(s)', 'Kristen Anderson-Lopez', 'Robert Lopez', 'Christophe Beck', 'Idina Menzel', 'Next to Me', 'Next to Me']\n"
     ]
    }
   ],
   "source": [
    "sicko = ''\n",
    "for table in tables:\n",
    "    if get_the_right_table(table) == \"infobox vevent\":\n",
    "        all_as = [a.text.encode('ascii','ignore') for a in table.find_all('a')]\n",
    "        print('hello hello hello')\n",
    "        print(all_as)"
   ]
  },
  {
   "cell_type": "code",
   "execution_count": null,
   "metadata": {
    "collapsed": true
   },
   "outputs": [],
   "source": []
  },
  {
   "cell_type": "code",
   "execution_count": null,
   "metadata": {
    "collapsed": true
   },
   "outputs": [],
   "source": []
  },
  {
   "cell_type": "code",
   "execution_count": 236,
   "metadata": {},
   "outputs": [
    {
     "data": {
      "text/plain": [
       "{u'class': [u'infobox', u'vevent'], u'style': u'width:22em'}"
      ]
     },
     "execution_count": 236,
     "metadata": {},
     "output_type": "execute_result"
    }
   ],
   "source": [
    "sicko.attrs"
   ]
  },
  {
   "cell_type": "code",
   "execution_count": 241,
   "metadata": {
    "collapsed": true
   },
   "outputs": [],
   "source": [
    "all_as = [a.text.encode('ascii','ignore') for a in sicko.find_all('a')]"
   ]
  },
  {
   "cell_type": "code",
   "execution_count": 238,
   "metadata": {
    "collapsed": true
   },
   "outputs": [],
   "source": [
    "genres = all_as[all_as.index('Genre')+1:all_as.index('Label')]"
   ]
  },
  {
   "cell_type": "code",
   "execution_count": 130,
   "metadata": {
    "collapsed": true
   },
   "outputs": [],
   "source": [
    "table = html.findAll(\"table\", {\"class\": \"infobox vevent\"})"
   ]
  },
  {
   "cell_type": "code",
   "execution_count": 137,
   "metadata": {},
   "outputs": [],
   "source": [
    "all_trs = table.source.searchTag('a)"
   ]
  },
  {
   "cell_type": "code",
   "execution_count": 138,
   "metadata": {
    "collapsed": true
   },
   "outputs": [],
   "source": [
    "all_t"
   ]
  },
  {
   "cell_type": "code",
   "execution_count": null,
   "metadata": {
    "collapsed": true
   },
   "outputs": [],
   "source": []
  },
  {
   "cell_type": "code",
   "execution_count": null,
   "metadata": {
    "collapsed": true
   },
   "outputs": [],
   "source": []
  },
  {
   "cell_type": "code",
   "execution_count": null,
   "metadata": {
    "collapsed": true
   },
   "outputs": [],
   "source": []
  },
  {
   "cell_type": "code",
   "execution_count": null,
   "metadata": {
    "collapsed": true
   },
   "outputs": [],
   "source": [
    "genres = {}\n",
    "for html in html_list:\n",
    "    info_div = happy.findAll(\"div\", {\"class\": \"hlist hlist-separated\"})\n",
    "    our_div = info_div[1]\n",
    "    li = our_div.findAll('li')\n",
    "    for item in li:\n",
    "        print(item.text)"
   ]
  },
  {
   "cell_type": "code",
   "execution_count": null,
   "metadata": {
    "collapsed": true
   },
   "outputs": [],
   "source": [
    "## First code"
   ]
  },
  {
   "cell_type": "code",
   "execution_count": 487,
   "metadata": {},
   "outputs": [],
   "source": [
    "result = requests.get(hot_100)\n",
    "c = result.content\n",
    "soup = BeautifulSoup(c, 'html.parser')"
   ]
  },
  {
   "cell_type": "code",
   "execution_count": 415,
   "metadata": {
    "collapsed": true
   },
   "outputs": [],
   "source": [
    "tables = soup.findChildren('table')"
   ]
  },
  {
   "cell_type": "code",
   "execution_count": 383,
   "metadata": {},
   "outputs": [],
   "source": [
    "my_table = tables[0]"
   ]
  },
  {
   "cell_type": "code",
   "execution_count": 403,
   "metadata": {},
   "outputs": [],
   "source": [
    "table_class = my_table.attrs['class']"
   ]
  },
  {
   "cell_type": "code",
   "execution_count": 412,
   "metadata": {},
   "outputs": [],
   "source": [
    "table_class_list = []\n",
    "for class_name in table_class:\n",
    "    table_class_list.append(class_name.encode('ascii','ignore'))    "
   ]
  },
  {
   "cell_type": "code",
   "execution_count": 414,
   "metadata": {},
   "outputs": [
    {
     "data": {
      "text/plain": [
       "'wikitable sortable'"
      ]
     },
     "execution_count": 414,
     "metadata": {},
     "output_type": "execute_result"
    }
   ],
   "source": [
    "\" \".join(table_class_list)"
   ]
  },
  {
   "cell_type": "code",
   "execution_count": null,
   "metadata": {
    "collapsed": true
   },
   "outputs": [],
   "source": []
  },
  {
   "cell_type": "code",
   "execution_count": null,
   "metadata": {
    "collapsed": true
   },
   "outputs": [],
   "source": []
  },
  {
   "cell_type": "code",
   "execution_count": null,
   "metadata": {
    "collapsed": true
   },
   "outputs": [],
   "source": []
  },
  {
   "cell_type": "code",
   "execution_count": 503,
   "metadata": {},
   "outputs": [
    {
     "data": {
      "text/plain": [
       "bs4.element.Tag"
      ]
     },
     "execution_count": 503,
     "metadata": {},
     "output_type": "execute_result"
    }
   ],
   "source": [
    "type(a_t)"
   ]
  },
  {
   "cell_type": "code",
   "execution_count": 543,
   "metadata": {},
   "outputs": [],
   "source": [
    "a = a_t.find('a')"
   ]
  },
  {
   "cell_type": "code",
   "execution_count": 544,
   "metadata": {},
   "outputs": [
    {
     "data": {
      "text/plain": [
       "bs4.element.Tag"
      ]
     },
     "execution_count": 544,
     "metadata": {},
     "output_type": "execute_result"
    }
   ],
   "source": [
    "type(a)"
   ]
  },
  {
   "cell_type": "code",
   "execution_count": 545,
   "metadata": {},
   "outputs": [],
   "source": [
    "att = a.attrs['href']"
   ]
  },
  {
   "cell_type": "code",
   "execution_count": 291,
   "metadata": {},
   "outputs": [],
   "source": [
    "a_content = []\n",
    "for td in all_tds:\n",
    "    a_content.append(td.)"
   ]
  },
  {
   "cell_type": "code",
   "execution_count": 293,
   "metadata": {},
   "outputs": [],
   "source": [
    "a_t = a_content[0]"
   ]
  },
  {
   "cell_type": "code",
   "execution_count": 294,
   "metadata": {},
   "outputs": [
    {
     "data": {
      "text/plain": [
       "list"
      ]
     },
     "execution_count": 294,
     "metadata": {},
     "output_type": "execute_result"
    }
   ],
   "source": [
    "type(a_t)"
   ]
  },
  {
   "cell_type": "code",
   "execution_count": 295,
   "metadata": {},
   "outputs": [
    {
     "data": {
      "text/plain": [
       "[u'\"',\n",
       " <a href=\"/wiki/Happy_(Pharrell_Williams_song)\" title=\"Happy (Pharrell Williams song)\">Happy</a>,\n",
       " u'\"']"
      ]
     },
     "execution_count": 295,
     "metadata": {},
     "output_type": "execute_result"
    }
   ],
   "source": [
    "a_t"
   ]
  },
  {
   "cell_type": "code",
   "execution_count": 280,
   "metadata": {},
   "outputs": [
    {
     "data": {
      "text/plain": [
       "200"
      ]
     },
     "execution_count": 280,
     "metadata": {},
     "output_type": "execute_result"
    }
   ],
   "source": [
    "len(a)"
   ]
  },
  {
   "cell_type": "code",
   "execution_count": 281,
   "metadata": {},
   "outputs": [
    {
     "data": {
      "text/plain": [
       "<bound method Tag.find_all of <td>\"<a href=\"/wiki/Happy_(Pharrell_Williams_song)\" title=\"Happy (Pharrell Williams song)\">Happy</a>\"</td>>"
      ]
     },
     "execution_count": 281,
     "metadata": {},
     "output_type": "execute_result"
    }
   ],
   "source": [
    "a[0]"
   ]
  },
  {
   "cell_type": "code",
   "execution_count": 282,
   "metadata": {
    "collapsed": true
   },
   "outputs": [],
   "source": [
    "a0 = a[0]"
   ]
  },
  {
   "cell_type": "code",
   "execution_count": 277,
   "metadata": {},
   "outputs": [
    {
     "data": {
      "text/plain": [
       "list"
      ]
     },
     "execution_count": 277,
     "metadata": {},
     "output_type": "execute_result"
    }
   ],
   "source": [
    "type(a)"
   ]
  },
  {
   "cell_type": "code",
   "execution_count": null,
   "metadata": {
    "collapsed": true
   },
   "outputs": [],
   "source": []
  },
  {
   "cell_type": "code",
   "execution_count": 231,
   "metadata": {
    "collapsed": true
   },
   "outputs": [],
   "source": [
    "rows = my_table.findChildren('td')"
   ]
  },
  {
   "cell_type": "code",
   "execution_count": null,
   "metadata": {
    "collapsed": true
   },
   "outputs": [],
   "source": []
  },
  {
   "cell_type": "code",
   "execution_count": 232,
   "metadata": {},
   "outputs": [
    {
     "data": {
      "text/plain": [
       "200"
      ]
     },
     "execution_count": 232,
     "metadata": {},
     "output_type": "execute_result"
    }
   ],
   "source": [
    "len(rows)"
   ]
  },
  {
   "cell_type": "code",
   "execution_count": 249,
   "metadata": {},
   "outputs": [],
   "source": [
    "anchors_100 = []\n",
    "for row in rows:\n",
    "    anchors_100.append(row.findChildren('a'))"
   ]
  },
  {
   "cell_type": "code",
   "execution_count": 252,
   "metadata": {},
   "outputs": [],
   "source": [
    "a = anchors_100[0]"
   ]
  },
  {
   "cell_type": "code",
   "execution_count": 259,
   "metadata": {},
   "outputs": [],
   "source": [
    "a.source.search_tag('href')"
   ]
  },
  {
   "cell_type": "code",
   "execution_count": null,
   "metadata": {
    "collapsed": true
   },
   "outputs": [],
   "source": []
  },
  {
   "cell_type": "code",
   "execution_count": 166,
   "metadata": {},
   "outputs": [
    {
     "name": "stdout",
     "output_type": "stream",
     "text": [
      "/wiki/Billboard_(magazine)\n",
      "/wiki/Billboard_Year-End\n",
      "/wiki/Billboard_Hot_100\n",
      "#cite_note-2\n",
      "/wiki/Happy_(Pharrell_Williams_song)\n",
      "/wiki/Pharrell_Williams\n",
      "/wiki/Dark_Horse_(Katy_Perry_song)\n",
      "/wiki/Katy_Perry\n",
      "/wiki/Juicy_J\n",
      "/wiki/All_of_Me_(John_Legend_song)\n",
      "/wiki/John_Legend\n",
      "/wiki/Fancy_(Iggy_Azalea_song)\n",
      "/wiki/Iggy_Azalea\n",
      "/wiki/Charli_XCX\n",
      "/wiki/Counting_Stars\n",
      "/wiki/OneRepublic\n",
      "/wiki/Talk_Dirty_(Jason_Derulo_song)\n",
      "/wiki/Jason_Derulo\n",
      "/wiki/2_Chainz\n",
      "/wiki/Rude_(song)\n",
      "/wiki/Magic!\n",
      "/wiki/All_About_That_Bass\n",
      "/wiki/Meghan_Trainor\n",
      "/wiki/Problem_(Ariana_Grande_song)\n",
      "/wiki/Ariana_Grande\n",
      "/wiki/Iggy_Azalea\n",
      "/wiki/Stay_with_Me_(Sam_Smith_song)\n",
      "/wiki/Sam_Smith_(singer)\n",
      "/wiki/Timber_(Pitbull_song)\n",
      "/wiki/Pitbull_(rapper)\n",
      "/wiki/Kesha\n",
      "/wiki/Pompeii_(Bastille_song)\n",
      "/wiki/Bastille_(band)\n",
      "/wiki/Shake_It_Off_(Taylor_Swift_song)\n",
      "/wiki/Taylor_Swift\n",
      "/wiki/Am_I_Wrong_(song)\n",
      "/wiki/Nico_%26_Vinz\n",
      "/wiki/Turn_Down_for_What\n",
      "/wiki/DJ_Snake\n",
      "/wiki/Lil_Jon\n",
      "/wiki/The_Monster_(Eminem_song)\n",
      "/wiki/Eminem\n",
      "/wiki/Rihanna\n",
      "/wiki/Say_Something_(A_Great_Big_World_song)\n",
      "/wiki/A_Great_Big_World\n",
      "/wiki/Christina_Aguilera\n",
      "/wiki/Team_(Lorde_song)\n",
      "/wiki/Lorde\n",
      "/wiki/Let_Her_Go_(Passenger_song)\n",
      "/wiki/Passenger_(singer)\n",
      "/wiki/Royals_(song)\n",
      "/wiki/Lorde\n",
      "/wiki/Let_It_Go_(Disney_song)\n",
      "/wiki/Idina_Menzel\n",
      "/wiki/Wake_Me_Up_(Avicii_song)\n",
      "/wiki/Avicii\n",
      "/wiki/Demons_(Imagine_Dragons_song)\n",
      "/wiki/Imagine_Dragons\n",
      "/wiki/Story_of_My_Life_(One_Direction_song)\n",
      "/wiki/One_Direction\n",
      "/wiki/Chandelier_(Sia_song)\n",
      "/wiki/Sia_Furler\n",
      "/wiki/Black_Widow_(song)\n",
      "/wiki/Iggy_Azalea\n",
      "/wiki/Rita_Ora\n",
      "/wiki/Bang_Bang_(Jessie_J,_Ariana_Grande_and_Nicki_Minaj_song)\n",
      "/wiki/Jessie_J\n",
      "/wiki/Ariana_Grande\n",
      "/wiki/Nicki_Minaj\n",
      "/wiki/Latch_(song)\n",
      "/wiki/Disclosure_(band)\n",
      "/wiki/Sam_Smith_(singer)\n",
      "/wiki/Maps_(Maroon_5_song)\n",
      "/wiki/Maroon_5\n",
      "/wiki/Loyal_(Chris_Brown_song)\n",
      "/wiki/Chris_Brown\n",
      "/wiki/Lil_Wayne\n",
      "/wiki/French_Montana\n",
      "/wiki/Too_Short\n",
      "/wiki/Tyga\n",
      "/wiki/Best_Day_of_My_Life\n",
      "/wiki/American_Authors\n",
      "/wiki/Habits_(Stay_High)\n",
      "/wiki/Tove_Lo\n",
      "/wiki/Summer_(Calvin_Harris_song)\n",
      "/wiki/Calvin_Harris\n",
      "/wiki/Boom_Clap\n",
      "/wiki/Charli_XCX\n",
      "/wiki/Drunk_in_Love\n",
      "/wiki/Beyonc%C3%A9\n",
      "/wiki/Jay_Z\n",
      "/wiki/Anaconda_(Nicki_Minaj_song)\n",
      "/wiki/Nicki_Minaj\n",
      "/wiki/Break_Free_(Ariana_Grande_song)\n",
      "/wiki/Ariana_Grande\n",
      "/wiki/Zedd_(musician)\n",
      "/wiki/Bailando_(Enrique_Iglesias_song)\n",
      "/wiki/Enrique_Iglesias\n",
      "/wiki/Descemer_Bueno\n",
      "/wiki/Gente_de_Zona\n",
      "/wiki/Burn_(Ellie_Goulding_song)\n",
      "/wiki/Ellie_Goulding\n",
      "/wiki/Wiggle_(song)\n",
      "/wiki/Jason_Derulo\n",
      "/wiki/Snoop_Dogg\n",
      "/wiki/Rather_Be_(Clean_Bandit_song)\n",
      "/wiki/Clean_Bandit\n",
      "/wiki/Jess_Glynne\n",
      "/wiki/Don%27t_Tell_%27Em\n",
      "/wiki/Jeremih\n",
      "/wiki/YG_(rapper)\n",
      "/wiki/Show_Me_(Kid_Ink_song)\n",
      "/wiki/Kid_Ink\n",
      "/wiki/Chris_Brown\n",
      "/wiki/Wrecking_Ball_(Miley_Cyrus_song)\n",
      "/wiki/Miley_Cyrus\n",
      "/wiki/Not_a_Bad_Thing\n",
      "/wiki/Justin_Timberlake\n",
      "/wiki/Roar_(song)\n",
      "/wiki/Katy_Perry\n",
      "/wiki/Ain%27t_It_Fun_(Paramore_song)\n",
      "/wiki/Paramore\n",
      "/wiki/The_Man_(Aloe_Blacc_song)\n",
      "/wiki/Aloe_Blacc\n",
      "/wiki/This_Is_How_We_Roll\n",
      "/wiki/Florida_Georgia_Line\n",
      "/wiki/Luke_Bryan\n",
      "/wiki/Classic_(MKTO_song)\n",
      "/wiki/MKTO\n",
      "/wiki/A_Sky_Full_of_Stars\n",
      "/wiki/Coldplay\n",
      "/wiki/Don%27t_(Ed_Sheeran_song)\n",
      "/wiki/Ed_Sheeran\n",
      "/wiki/Na_Na_(song)\n",
      "/wiki/Trey_Songz\n",
      "/wiki/Hot_Nigga\n",
      "/wiki/Bobby_Shmurda\n",
      "/wiki/Hold_On,_We%27re_Going_Home\n",
      "/wiki/Drake_(rapper)\n",
      "/wiki/Majid_Jordan\n",
      "/wiki/Sing_(Ed_Sheeran_song)\n",
      "/wiki/Ed_Sheeran\n",
      "/wiki/Radioactive_(Imagine_Dragons_song)\n",
      "/wiki/Imagine_Dragons\n",
      "/wiki/My_Nigga\n",
      "/wiki/YG_(rapper)\n",
      "/wiki/Jeezy\n",
      "/wiki/Rich_Homie_Quan\n",
      "/wiki/Cool_Kids_(Echosmith_song)\n",
      "/wiki/Echosmith\n",
      "/wiki/Hey_Brother\n",
      "/wiki/Avicii\n",
      "/wiki/Trumpets_(Jason_Derulo_song)\n",
      "/wiki/Jason_Derulo\n",
      "/wiki/Animals_(Maroon_5_song)\n",
      "/wiki/Maroon_5\n",
      "/wiki/Burnin%27_It_Down\n",
      "/wiki/Jason_Aldean\n",
      "/wiki/Play_It_Again_(Luke_Bryan_song)\n",
      "/wiki/Luke_Bryan\n",
      "/wiki/2_On\n",
      "/wiki/Tinashe\n",
      "/wiki/ScHoolboy_Q\n",
      "/wiki/Dirt_(Florida_Georgia_Line_song)\n",
      "/wiki/Florida_Georgia_Line\n",
      "/wiki/Love_Runs_Out\n",
      "/wiki/OneRepublic\n",
      "/wiki/Bottoms_Up_(Brantley_Gilbert_song)\n",
      "/wiki/Brantley_Gilbert\n",
      "/wiki/Shower_(song)\n",
      "/wiki/Becky_G\n",
      "/wiki/Me_and_My_Broken_Heart\n",
      "/wiki/Rixton_(band)\n",
      "/wiki/Animals_(Martin_Garrix_composition)\n",
      "/wiki/Martin_Garrix\n",
      "/wiki/Lifestyle_(song)\n",
      "/wiki/Rich_Gang\n",
      "/wiki/Young_Thug\n",
      "/wiki/Rich_Homie_Quan\n",
      "/wiki/American_Kids\n",
      "/wiki/Kenny_Chesney\n",
      "/wiki/Brave_(Sara_Bareilles_song)\n",
      "/wiki/Sara_Bareilles\n",
      "/wiki/Sweater_Weather\n",
      "/wiki/The_Neighbourhood\n",
      "/wiki/Leave_the_Night_On\n",
      "/wiki/Sam_Hunt_(musician)\n",
      "/wiki/New_Flame\n",
      "/wiki/Chris_Brown\n",
      "/wiki/Usher_(entertainer)\n",
      "/wiki/Rick_Ross\n",
      "/wiki/Love_Never_Felt_So_Good\n",
      "/wiki/Michael_Jackson\n",
      "/wiki/Justin_Timberlake\n",
      "/wiki/Drunk_on_a_Plane\n",
      "/wiki/Dierks_Bentley\n",
      "/wiki/Birthday_(Katy_Perry_song)\n",
      "/wiki/Katy_Perry\n",
      "/wiki/Bartender_(Lady_Antebellum_song)\n",
      "/wiki/Lady_Antebellum\n",
      "/wiki/La_La_La_(Naughty_Boy_song)\n",
      "/wiki/Naughty_Boy\n",
      "/wiki/Sam_Smith_(singer)\n",
      "/wiki/Blurred_Lines\n",
      "/wiki/Robin_Thicke\n",
      "/wiki/T.I.\n",
      "/wiki/Pharrell_Williams\n",
      "/wiki/Do_What_U_Want\n",
      "/wiki/Lady_Gaga\n",
      "/wiki/R._Kelly\n",
      "/wiki/Can%27t_Remember_to_Forget_You\n",
      "/wiki/Shakira\n",
      "/wiki/Rihanna\n",
      "/wiki/Amnesia_(5_Seconds_of_Summer_song)\n",
      "/wiki/5_Seconds_of_Summer\n",
      "/wiki/No_Mediocre\n",
      "/wiki/T.I.\n",
      "/wiki/Iggy_Azalea\n",
      "/wiki/Come_with_Me_Now\n",
      "/wiki/Kongos_(band)\n",
      "/wiki/Believe_Me_(Lil_Wayne_song)\n",
      "/wiki/Lil_Wayne\n",
      "/wiki/Drake_(rapper)\n",
      "/wiki/23_(song)\n",
      "/wiki/Mike_WiLL_Made-It\n",
      "/wiki/Miley_Cyrus\n",
      "/wiki/Wiz_Khalifa\n",
      "/wiki/Juicy_J\n",
      "/wiki/Beachin%27\n",
      "/wiki/Jake_Owen\n",
      "/wiki/White_Walls\n",
      "/wiki/Macklemore_%26_Ryan_Lewis\n",
      "/wiki/ScHoolboy_Q\n",
      "/wiki/Hollis_(singer)\n",
      "/wiki/She_Looks_So_Perfect\n",
      "/wiki/5_Seconds_of_Summer\n",
      "/wiki/Stay_the_Night_(Zedd_song)\n",
      "/wiki/Zedd_(musician)\n",
      "/wiki/Hayley_Williams\n",
      "/wiki/Partition_(song)\n",
      "/wiki/Beyonc%C3%A9\n",
      "/wiki/Studio_(song)\n",
      "/wiki/ScHoolboy_Q\n",
      "/wiki/BJ_the_Chicago_Kid\n",
      "/wiki/0_to_100_/_The_Catch_Up\n",
      "/wiki/Drake_(rapper)\n",
      "/wiki/I_Don%27t_Dance_(Lee_Brice_song)\n",
      "/wiki/Lee_Brice\n",
      "/wiki/Somethin%27_Bad\n",
      "/wiki/Miranda_Lambert\n",
      "/wiki/Carrie_Underwood\n",
      "/wiki/Adore_You\n",
      "/wiki/Miley_Cyrus\n"
     ]
    }
   ],
   "source": [
    "song_links = []\n",
    "for link in links:\n",
    "    href = link.attrs['href']\n",
    "    print(href)\n",
    "    if ['_(song)','_(singer)','_(band)' or in href:\n",
    "        song_links.append('https://en.wikipedia.org'+href)"
   ]
  },
  {
   "cell_type": "code",
   "execution_count": null,
   "metadata": {
    "collapsed": true
   },
   "outputs": [],
   "source": []
  },
  {
   "cell_type": "code",
   "execution_count": 14,
   "metadata": {},
   "outputs": [
    {
     "data": {
      "text/plain": [
       "list"
      ]
     },
     "execution_count": 14,
     "metadata": {},
     "output_type": "execute_result"
    }
   ],
   "source": [
    "type(song_links)"
   ]
  },
  {
   "cell_type": "code",
   "execution_count": 23,
   "metadata": {},
   "outputs": [],
   "source": [
    "html_list = []\n",
    "for song in song_links:\n",
    "    result = requests.get(song)\n",
    "    c = result.content\n",
    "    html = BeautifulSoup(c, 'html.parser')\n",
    "    html_list.append(html)"
   ]
  },
  {
   "cell_type": "code",
   "execution_count": 155,
   "metadata": {},
   "outputs": [
    {
     "data": {
      "text/plain": [
       "50"
      ]
     },
     "execution_count": 155,
     "metadata": {},
     "output_type": "execute_result"
    }
   ],
   "source": [
    "len(html_list)"
   ]
  },
  {
   "cell_type": "code",
   "execution_count": 156,
   "metadata": {},
   "outputs": [
    {
     "name": "stdout",
     "output_type": "stream",
     "text": [
      "Soul\n",
      "neo soul\n",
      "Soul\n",
      "neo soul\n",
      "Soul\n",
      "neo soul\n",
      "Soul\n",
      "neo soul\n",
      "Soul\n",
      "neo soul\n",
      "Soul\n",
      "neo soul\n",
      "Soul\n",
      "neo soul\n",
      "Soul\n",
      "neo soul\n",
      "Soul\n",
      "neo soul\n",
      "Soul\n",
      "neo soul\n",
      "Soul\n",
      "neo soul\n",
      "Soul\n",
      "neo soul\n",
      "Soul\n",
      "neo soul\n",
      "Soul\n",
      "neo soul\n",
      "Soul\n",
      "neo soul\n",
      "Soul\n",
      "neo soul\n",
      "Soul\n",
      "neo soul\n",
      "Soul\n",
      "neo soul\n",
      "Soul\n",
      "neo soul\n",
      "Soul\n",
      "neo soul\n",
      "Soul\n",
      "neo soul\n",
      "Soul\n",
      "neo soul\n",
      "Soul\n",
      "neo soul\n",
      "Soul\n",
      "neo soul\n",
      "Soul\n",
      "neo soul\n",
      "Soul\n",
      "neo soul\n",
      "Soul\n",
      "neo soul\n",
      "Soul\n",
      "neo soul\n",
      "Soul\n",
      "neo soul\n",
      "Soul\n",
      "neo soul\n",
      "Soul\n",
      "neo soul\n",
      "Soul\n",
      "neo soul\n",
      "Soul\n",
      "neo soul\n",
      "Soul\n",
      "neo soul\n",
      "Soul\n",
      "neo soul\n",
      "Soul\n",
      "neo soul\n",
      "Soul\n",
      "neo soul\n",
      "Soul\n",
      "neo soul\n",
      "Soul\n",
      "neo soul\n",
      "Soul\n",
      "neo soul\n",
      "Soul\n",
      "neo soul\n",
      "Soul\n",
      "neo soul\n",
      "Soul\n",
      "neo soul\n",
      "Soul\n",
      "neo soul\n",
      "Soul\n",
      "neo soul\n",
      "Soul\n",
      "neo soul\n",
      "Soul\n",
      "neo soul\n",
      "Soul\n",
      "neo soul\n",
      "Soul\n",
      "neo soul\n",
      "Soul\n",
      "neo soul\n"
     ]
    }
   ],
   "source": [
    "genres = {}\n",
    "for html in html_list:\n",
    "    info_div = happy.findAll(\"div\", {\"class\": \"hlist hlist-separated\"})\n",
    "    our_div = info_div[1]\n",
    "    li = our_div.findAll('li')\n",
    "    for item in li:\n",
    "        print(item.text)"
   ]
  },
  {
   "cell_type": "code",
   "execution_count": 120,
   "metadata": {},
   "outputs": [],
   "source": [
    "url = 'https://en.wikipedia.org/wiki/All_About_That_Bass'"
   ]
  },
  {
   "cell_type": "code",
   "execution_count": 121,
   "metadata": {
    "collapsed": true
   },
   "outputs": [],
   "source": [
    "result = requests.get(url)\n",
    "c = result.content\n",
    "html = BeautifulSoup(c, 'html.parser')"
   ]
  },
  {
   "cell_type": "code",
   "execution_count": 123,
   "metadata": {},
   "outputs": [
    {
     "name": "stdout",
     "output_type": "stream",
     "text": [
      "0\n"
     ]
    },
    {
     "ename": "IndexError",
     "evalue": "list index out of range",
     "output_type": "error",
     "traceback": [
      "\u001b[0;31m---------------------------------------------------------------------------\u001b[0m",
      "\u001b[0;31mIndexError\u001b[0m                                Traceback (most recent call last)",
      "\u001b[0;32m<ipython-input-123-d42044d3a3f4>\u001b[0m in \u001b[0;36m<module>\u001b[0;34m()\u001b[0m\n\u001b[1;32m      1\u001b[0m \u001b[0minfo_div\u001b[0m \u001b[1;33m=\u001b[0m \u001b[0mhtml\u001b[0m\u001b[1;33m.\u001b[0m\u001b[0mfindAll\u001b[0m\u001b[1;33m(\u001b[0m\u001b[1;34m\"div\"\u001b[0m\u001b[1;33m,\u001b[0m \u001b[1;33m{\u001b[0m\u001b[1;34m\"class\"\u001b[0m\u001b[1;33m:\u001b[0m \u001b[1;34m\"hlist hlist-separated\"\u001b[0m\u001b[1;33m}\u001b[0m\u001b[1;33m)\u001b[0m\u001b[1;33m\u001b[0m\u001b[0m\n\u001b[1;32m      2\u001b[0m \u001b[1;32mprint\u001b[0m\u001b[1;33m(\u001b[0m\u001b[0mlen\u001b[0m\u001b[1;33m(\u001b[0m\u001b[0minfo_div\u001b[0m\u001b[1;33m)\u001b[0m\u001b[1;33m)\u001b[0m\u001b[1;33m\u001b[0m\u001b[0m\n\u001b[0;32m----> 3\u001b[0;31m \u001b[0mour_div\u001b[0m \u001b[1;33m=\u001b[0m \u001b[0minfo_div\u001b[0m\u001b[1;33m[\u001b[0m\u001b[1;36m1\u001b[0m\u001b[1;33m]\u001b[0m\u001b[1;33m\u001b[0m\u001b[0m\n\u001b[0m\u001b[1;32m      4\u001b[0m \u001b[0mli\u001b[0m \u001b[1;33m=\u001b[0m \u001b[0mour_div\u001b[0m\u001b[1;33m.\u001b[0m\u001b[0mfindAll\u001b[0m\u001b[1;33m(\u001b[0m\u001b[1;34m'li'\u001b[0m\u001b[1;33m)\u001b[0m\u001b[1;33m\u001b[0m\u001b[0m\n\u001b[1;32m      5\u001b[0m \u001b[1;32mfor\u001b[0m \u001b[0mitem\u001b[0m \u001b[1;32min\u001b[0m \u001b[0mli\u001b[0m\u001b[1;33m:\u001b[0m\u001b[1;33m\u001b[0m\u001b[0m\n",
      "\u001b[0;31mIndexError\u001b[0m: list index out of range"
     ]
    }
   ],
   "source": [
    "info_div = html.findAll(\"div\", {\"class\": \"hlist hlist-separated\"})\n",
    "print(len(info_div))\n",
    "our_div = info_div[1]\n",
    "li = our_div.findAll('li')\n",
    "for item in li:\n",
    "    print(item.text)"
   ]
  },
  {
   "cell_type": "code",
   "execution_count": null,
   "metadata": {
    "collapsed": true
   },
   "outputs": [],
   "source": []
  },
  {
   "cell_type": "code",
   "execution_count": 167,
   "metadata": {
    "collapsed": true
   },
   "outputs": [],
   "source": [
    "happy = html_list[0]"
   ]
  },
  {
   "cell_type": "code",
   "execution_count": 168,
   "metadata": {},
   "outputs": [],
   "source": [
    "info_div = happy.findAll(\"div\", {\"class\": \"hlist hlist-separated\"})"
   ]
  },
  {
   "cell_type": "code",
   "execution_count": 169,
   "metadata": {},
   "outputs": [
    {
     "data": {
      "text/plain": [
       "3"
      ]
     },
     "execution_count": 169,
     "metadata": {},
     "output_type": "execute_result"
    }
   ],
   "source": [
    "len(info_div)"
   ]
  },
  {
   "cell_type": "code",
   "execution_count": 170,
   "metadata": {},
   "outputs": [],
   "source": [
    "our_div = info_div[1]"
   ]
  },
  {
   "cell_type": "code",
   "execution_count": 171,
   "metadata": {},
   "outputs": [],
   "source": [
    "li = our_div.findAll('li')"
   ]
  },
  {
   "cell_type": "code",
   "execution_count": 172,
   "metadata": {},
   "outputs": [
    {
     "name": "stdout",
     "output_type": "stream",
     "text": [
      "Soul\n",
      "neo soul\n"
     ]
    }
   ],
   "source": [
    "chumma =','\n",
    "for item in li:\n",
    "    print(item.text)\n",
    "    chumma.join(item.text)"
   ]
  },
  {
   "cell_type": "code",
   "execution_count": null,
   "metadata": {
    "collapsed": true
   },
   "outputs": [],
   "source": []
  },
  {
   "cell_type": "code",
   "execution_count": null,
   "metadata": {
    "collapsed": true
   },
   "outputs": [],
   "source": []
  },
  {
   "cell_type": "code",
   "execution_count": 45,
   "metadata": {},
   "outputs": [
    {
     "name": "stdout",
     "output_type": "stream",
     "text": [
      "[u'noprint']\n",
      "[u'noprint']\n",
      "[u'mw-body']\n",
      "[u'mw-body-content']\n",
      "[u'mw-indicators', u'mw-body-content']\n",
      "[u'mw-body-content']\n",
      "[u'noprint']\n"
     ]
    },
    {
     "ename": "KeyError",
     "evalue": "'class'",
     "output_type": "error",
     "traceback": [
      "\u001b[0;31m---------------------------------------------------------------------------\u001b[0m",
      "\u001b[0;31mKeyError\u001b[0m                                  Traceback (most recent call last)",
      "\u001b[0;32m<ipython-input-45-25d0793602aa>\u001b[0m in \u001b[0;36m<module>\u001b[0;34m()\u001b[0m\n\u001b[1;32m      1\u001b[0m \u001b[0mmydivs\u001b[0m \u001b[1;33m=\u001b[0m \u001b[0msoup\u001b[0m\u001b[1;33m.\u001b[0m\u001b[0mfindAll\u001b[0m\u001b[1;33m(\u001b[0m\u001b[1;34m'div'\u001b[0m\u001b[1;33m)\u001b[0m\u001b[1;33m\u001b[0m\u001b[0m\n\u001b[1;32m      2\u001b[0m \u001b[1;32mfor\u001b[0m \u001b[0mdiv\u001b[0m \u001b[1;32min\u001b[0m \u001b[0mmydivs\u001b[0m\u001b[1;33m:\u001b[0m\u001b[1;33m\u001b[0m\u001b[0m\n\u001b[0;32m----> 3\u001b[0;31m     \u001b[1;32mprint\u001b[0m\u001b[1;33m(\u001b[0m\u001b[0mdiv\u001b[0m\u001b[1;33m[\u001b[0m\u001b[1;34m'class'\u001b[0m\u001b[1;33m]\u001b[0m\u001b[1;33m)\u001b[0m\u001b[1;33m\u001b[0m\u001b[0m\n\u001b[0m",
      "\u001b[0;32mC:\\Users\\rhomi\\Anaconda2\\lib\\site-packages\\bs4\\element.pyc\u001b[0m in \u001b[0;36m__getitem__\u001b[0;34m(self, key)\u001b[0m\n\u001b[1;32m   1009\u001b[0m         \"\"\"tag[key] returns the value of the 'key' attribute for the tag,\n\u001b[1;32m   1010\u001b[0m         and throws an exception if it's not there.\"\"\"\n\u001b[0;32m-> 1011\u001b[0;31m         \u001b[1;32mreturn\u001b[0m \u001b[0mself\u001b[0m\u001b[1;33m.\u001b[0m\u001b[0mattrs\u001b[0m\u001b[1;33m[\u001b[0m\u001b[0mkey\u001b[0m\u001b[1;33m]\u001b[0m\u001b[1;33m\u001b[0m\u001b[0m\n\u001b[0m\u001b[1;32m   1012\u001b[0m \u001b[1;33m\u001b[0m\u001b[0m\n\u001b[1;32m   1013\u001b[0m     \u001b[1;32mdef\u001b[0m \u001b[0m__iter__\u001b[0m\u001b[1;33m(\u001b[0m\u001b[0mself\u001b[0m\u001b[1;33m)\u001b[0m\u001b[1;33m:\u001b[0m\u001b[1;33m\u001b[0m\u001b[0m\n",
      "\u001b[0;31mKeyError\u001b[0m: 'class'"
     ]
    }
   ],
   "source": [
    "mydivs = soup.findAll('div')\n",
    "for div in mydivs:\n",
    "    print(div['class'])"
   ]
  },
  {
   "cell_type": "code",
   "execution_count": 51,
   "metadata": {},
   "outputs": [
    {
     "ename": "AttributeError",
     "evalue": "ResultSet object has no attribute 'find_next_sibling'. You're probably treating a list of items like a single item. Did you call find_all() when you meant to call find()?",
     "output_type": "error",
     "traceback": [
      "\u001b[0;31m---------------------------------------------------------------------------\u001b[0m",
      "\u001b[0;31mAttributeError\u001b[0m                            Traceback (most recent call last)",
      "\u001b[0;32m<ipython-input-51-e21fa0ea8d52>\u001b[0m in \u001b[0;36m<module>\u001b[0;34m()\u001b[0m\n\u001b[0;32m----> 1\u001b[0;31m \u001b[0mobj\u001b[0m \u001b[1;33m=\u001b[0m \u001b[0msoup\u001b[0m\u001b[1;33m.\u001b[0m\u001b[0mfind_all\u001b[0m\u001b[1;33m(\u001b[0m\u001b[1;34m\"th\"\u001b[0m\u001b[1;33m,\u001b[0m \u001b[0mtext\u001b[0m\u001b[1;33m=\u001b[0m\u001b[1;34m\"GENRE :\"\u001b[0m\u001b[1;33m)\u001b[0m\u001b[1;33m.\u001b[0m\u001b[0mfind_next_sibling\u001b[0m\u001b[1;33m(\u001b[0m\u001b[1;34m\"td\"\u001b[0m\u001b[1;33m)\u001b[0m\u001b[1;33m.\u001b[0m\u001b[0mtext\u001b[0m\u001b[1;33m\u001b[0m\u001b[0m\n\u001b[0m",
      "\u001b[0;32mC:\\Users\\rhomi\\Anaconda2\\lib\\site-packages\\bs4\\element.pyc\u001b[0m in \u001b[0;36m__getattr__\u001b[0;34m(self, key)\u001b[0m\n\u001b[1;32m   1805\u001b[0m     \u001b[1;32mdef\u001b[0m \u001b[0m__getattr__\u001b[0m\u001b[1;33m(\u001b[0m\u001b[0mself\u001b[0m\u001b[1;33m,\u001b[0m \u001b[0mkey\u001b[0m\u001b[1;33m)\u001b[0m\u001b[1;33m:\u001b[0m\u001b[1;33m\u001b[0m\u001b[0m\n\u001b[1;32m   1806\u001b[0m         raise AttributeError(\n\u001b[0;32m-> 1807\u001b[0;31m             \u001b[1;34m\"ResultSet object has no attribute '%s'. You're probably treating a list of items like a single item. Did you call find_all() when you meant to call find()?\"\u001b[0m \u001b[1;33m%\u001b[0m \u001b[0mkey\u001b[0m\u001b[1;33m\u001b[0m\u001b[0m\n\u001b[0m\u001b[1;32m   1808\u001b[0m         )\n",
      "\u001b[0;31mAttributeError\u001b[0m: ResultSet object has no attribute 'find_next_sibling'. You're probably treating a list of items like a single item. Did you call find_all() when you meant to call find()?"
     ]
    }
   ],
   "source": [
    "obj = soup.find_all(\"th\", text=\"GENRE :\").find_next_sibling(\"td\").text"
   ]
  },
  {
   "cell_type": "code",
   "execution_count": 74,
   "metadata": {},
   "outputs": [],
   "source": [
    "table = soup.findAll(\"table\", {\"class\": \"infobox vevent\"})"
   ]
  },
  {
   "cell_type": "code",
   "execution_count": null,
   "metadata": {
    "collapsed": true
   },
   "outputs": [],
   "source": []
  },
  {
   "cell_type": "code",
   "execution_count": 73,
   "metadata": {},
   "outputs": [
    {
     "data": {
      "text/plain": [
       "<bound method SoupStrainer.search of <bs4.element.SoupStrainer object at 0x000000001DD088D0>>"
      ]
     },
     "execution_count": 73,
     "metadata": {},
     "output_type": "execute_result"
    }
   ],
   "source": [
    "div.source.search"
   ]
  },
  {
   "cell_type": "code",
   "execution_count": null,
   "metadata": {
    "collapsed": true
   },
   "outputs": [],
   "source": []
  }
 ],
 "metadata": {
  "anaconda-cloud": {},
  "kernelspec": {
   "display_name": "Python 3",
   "language": "python",
   "name": "python3"
  },
  "language_info": {
   "codemirror_mode": {
    "name": "ipython",
    "version": 3
   },
   "file_extension": ".py",
   "mimetype": "text/x-python",
   "name": "python",
   "nbconvert_exporter": "python",
   "pygments_lexer": "ipython3",
   "version": "3.6.4"
  }
 },
 "nbformat": 4,
 "nbformat_minor": 1
}
